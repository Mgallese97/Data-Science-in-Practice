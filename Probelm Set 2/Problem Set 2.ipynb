{
 "cells": [
  {
   "cell_type": "markdown",
   "metadata": {},
   "source": [
    "# <center style=\"font-size:140%;\"> Report - Problem Set #*2*\n",
    " <center> Group Members:  Giacomo Martiriggiano, Mattia Gallese, Sophie De Becker, Yao Di"
   ]
  },
  {
   "cell_type": "markdown",
   "metadata": {},
   "source": [
    "This Jupyter Notebook will outline the data cleaning process and binary classification for the churn factor of customers.csv for the assignment"
   ]
  },
  {
   "cell_type": "markdown",
   "metadata": {},
   "source": [
    "## Data loading "
   ]
  },
  {
   "cell_type": "code",
   "execution_count": 1,
   "metadata": {},
   "outputs": [],
   "source": [
    "#import modules needed for data analysis\n",
    "import pandas as pd\n",
    "import matplotlib.pyplot as plt\n",
    "import numpy as np\n",
    "import seaborn as sns\n",
    "from sklearn.preprocessing import MinMaxScaler, StandardScaler\n",
    "from sklearn.linear_model import LogisticRegression, LinearRegression\n",
    "from sklearn.model_selection import train_test_split, KFold, GridSearchCV\n",
    "from sklearn.metrics import recall_score, accuracy_score, precision_score, confusion_matrix, classification_report\n",
    "from sklearn.ensemble import RandomForestClassifier\n",
    "from sklearn import svm\n",
    "#read the csv file to transfer all the data into \"data\"\n",
    "data = pd.read_csv('customers.csv')"
   ]
  },
  {
   "cell_type": "markdown",
   "metadata": {},
   "source": [
    "## Data Cleaning\n",
    "We keep the data cleaning process as what we did for the Problem Set 1.\n",
    "The first step is to remove the empty value in the TotalCharges column"
   ]
  },
  {
   "cell_type": "code",
   "execution_count": 2,
   "metadata": {},
   "outputs": [],
   "source": [
    "data['TotalCharges'] = data['TotalCharges'].replace(\" \", np.nan).astype('float32') \n",
    "data[\"SeniorCitizen\"]=data[\"SeniorCitizen\"].astype(\"object\")\n",
    "data = data[data[\"TotalCharges\"].notnull()]\n",
    "data = data.reset_index()[data.columns]\n",
    "#now we forced the 0 and 1 to be objects and we know we can drop the empty values in Total charger "
   ]
  },
  {
   "cell_type": "markdown",
   "metadata": {},
   "source": [
    "Finally a number may be non-empty but still unrealistic for example negative tenure. Let's now check that tenure and charges are non negative"
   ]
  },
  {
   "cell_type": "code",
   "execution_count": 3,
   "metadata": {},
   "outputs": [
    {
     "name": "stdout",
     "output_type": "stream",
     "text": [
      "False\n",
      "False\n",
      "False\n"
     ]
    }
   ],
   "source": [
    "print((data['tenure'] <0).any())\n",
    "print((data['TotalCharges']<0).any())\n",
    "print((data['MonthlyCharges']<0).any())"
   ]
  },
  {
   "cell_type": "markdown",
   "metadata": {},
   "source": [
    "We also need to encode the inputs from enumerates to numbers"
   ]
  },
  {
   "cell_type": "markdown",
   "metadata": {},
   "source": [
    "### Logistic regression MonthlyCharges"
   ]
  },
  {
   "cell_type": "code",
   "execution_count": 5,
   "metadata": {},
   "outputs": [
    {
     "name": "stdout",
     "output_type": "stream",
     "text": [
      "Classification accuracy: 73.42%\n"
     ]
    },
    {
     "name": "stderr",
     "output_type": "stream",
     "text": [
      "C:\\Users\\ydi\\Anaconda3\\lib\\site-packages\\sklearn\\linear_model\\logistic.py:432: FutureWarning: Default solver will be changed to 'lbfgs' in 0.22. Specify a solver to silence this warning.\n",
      "  FutureWarning)\n"
     ]
    }
   ],
   "source": [
    "data_origin = data.copy()\n",
    "y=data_origin.Churn.replace({'No': 0, 'Yes': 1}).values\n",
    "X_LR = data.iloc[:, 1:20].values\n",
    "\n",
    "X_train, X_test, y_train, y_test = train_test_split(X_LR, y,stratify=y, test_size=0.2)\n",
    "X_train_1D = X_train[:, 17, np.newaxis]\n",
    "X_test_1D = X_test[:, 17, np.newaxis]\n",
    "classifier = LogisticRegression().fit(X_train_1D, y_train)\n",
    "\n",
    "accuracy = classifier.score(X_test_1D, y_test)\n",
    "print('Classification accuracy: {:.2f}%'.format(accuracy * 100))"
   ]
  },
  {
   "cell_type": "code",
   "execution_count": 6,
   "metadata": {},
   "outputs": [
    {
     "data": {
      "image/png": "[encoded data removed]",
      "text/plain": [
       "<Figure size 432x288 with 1 Axes>"
      ]
     },
     "metadata": {
      "needs_background": "light"
     },
     "output_type": "display_data"
    }
   ],
   "source": [
    "proba = classifier.predict_proba(X_LR[:,18,np.newaxis])\n",
    "plt.plot(X_LR[:,18], proba)\n",
    "plt.title('Predicted probability of each class')\n",
    "plt.xlabel('Data X')\n",
    "plt.show()"
   ]
  },
  {
   "cell_type": "markdown",
   "metadata": {},
   "source": [
    "### Logistic regression tenure"
   ]
  },
  {
   "cell_type": "code",
   "execution_count": 7,
   "metadata": {},
   "outputs": [
    {
     "name": "stdout",
     "output_type": "stream",
     "text": [
      "Classification accuracy: 73.42%\n"
     ]
    },
    {
     "name": "stderr",
     "output_type": "stream",
     "text": [
      "C:\\Users\\ydi\\Anaconda3\\lib\\site-packages\\sklearn\\linear_model\\logistic.py:432: FutureWarning: Default solver will be changed to 'lbfgs' in 0.22. Specify a solver to silence this warning.\n",
      "  FutureWarning)\n"
     ]
    }
   ],
   "source": [
    "X_train_1D = X_train[:, 4, np.newaxis]\n",
    "X_test_1D = X_test[:, 4, np.newaxis]\n",
    "classifier = LogisticRegression().fit(X_train_1D, y_train)\n",
    "\n",
    "accuracy = classifier.score(X_test_1D, y_test)\n",
    "print('Classification accuracy: {:.2f}%'.format(accuracy * 100))"
   ]
  },
  {
   "cell_type": "code",
   "execution_count": 8,
   "metadata": {},
   "outputs": [
    {
     "data": {
      "image/png": "[encoded data removed]",
      "text/plain": [
       "<Figure size 432x288 with 1 Axes>"
      ]
     },
     "metadata": {
      "needs_background": "light"
     },
     "output_type": "display_data"
    }
   ],
   "source": [
    "proba = classifier.predict_proba(X_LR[:,18,np.newaxis])\n",
    "plt.plot(X_LR[:,18], proba, '*')\n",
    "plt.title('Predicted probability of each class')\n",
    "plt.xlabel('Data X')\n",
    "plt.show()"
   ]
  },
  {
   "cell_type": "markdown",
   "metadata": {},
   "source": [
    "### Random Forest"
   ]
  },
  {
   "cell_type": "code",
   "execution_count": 11,
   "metadata": {},
   "outputs": [
    {
     "name": "stderr",
     "output_type": "stream",
     "text": [
      "C:\\Users\\ydi\\Anaconda3\\lib\\site-packages\\sklearn\\ensemble\\forest.py:245: FutureWarning: The default value of n_estimators will change from 10 in version 0.20 to 100 in 0.22.\n",
      "  \"10 in version 0.20 to 100 in 0.22.\", FutureWarning)\n"
     ]
    },
    {
     "data": {
      "text/plain": [
       "(2.0, 0.0)"
      ]
     },
     "execution_count": 11,
     "metadata": {},
     "output_type": "execute_result"
    },
    {
     "data": {
      "image/png": "[encoded data removed]",
      "text/plain": [
       "<Figure size 432x288 with 1 Axes>"
      ]
     },
     "metadata": {
      "needs_background": "light"
     },
     "output_type": "display_data"
    }
   ],
   "source": [
    "X_RF = data.iloc[:, 1:20]\n",
    "dfX= pd.get_dummies(X_RF, columns= [i for i in X_RF.columns if X_RF[i].dtypes=='object'],drop_first=True)\n",
    "\n",
    "y=data['Churn'].values\n",
    "X_train, X_test, y_train, y_test = train_test_split(dfX, y,stratify=y, test_size=0.2)\n",
    "\n",
    "classifier= RandomForestClassifier()\n",
    "classifier.fit(X_train,y_train)\n",
    "y_pred= classifier.predict(X_test)\n",
    "mat = confusion_matrix(y_test, y_pred)\n",
    "s1=sns.heatmap(mat.T, square=True, annot=True, fmt='d', cbar=False,\n",
    "          xticklabels=['No','Yes'],\n",
    "          yticklabels=['No','Yes'] )\n",
    "plt.xlabel('true label')\n",
    "plt.ylabel('predicted label')\n",
    "bottom, top = s1.get_ylim()\n",
    "s1.set_ylim(bottom + 0.5, top - 0.5)"
   ]
  },
  {
   "cell_type": "markdown",
   "metadata": {},
   "source": [
    "## Data numerize and resampling\n",
    "The key of the problem set is to develop a method to predict the performance of the customer. The prediction problem could be easily transfered to asup"
   ]
  },
  {
   "cell_type": "markdown",
   "metadata": {},
   "source": [
    "The key output of our supervised learning model is the \"Churn\" parameter. The first step is to explore it."
   ]
  },
  {
   "cell_type": "code",
   "execution_count": 9,
   "metadata": {},
   "outputs": [],
   "source": [
    "data_E2N = data[['gender', 'SeniorCitizen', 'Partner', 'Dependents',\n",
    "       'PhoneService', 'MultipleLines', 'InternetService',\n",
    "       'OnlineSecurity', 'OnlineBackup', 'DeviceProtection', 'TechSupport',\n",
    "       'StreamingTV', 'StreamingMovies', 'Contract', 'PaperlessBilling',\n",
    "       'PaymentMethod','Churn']].copy()\n",
    "data_E2N = data_E2N.apply(lambda x: pd.factorize(x)[0])\n",
    "scaler = MinMaxScaler()\n",
    "data_E2N = pd.DataFrame(scaler.fit_transform(data_E2N),columns=data_E2N.columns)\n",
    "data_N = data[['tenure', 'MonthlyCharges', 'TotalCharges']].copy()\n",
    "data_N['TotalCharges'] = pd.to_numeric(data_N['TotalCharges'])\n",
    "scaler2 = StandardScaler()\n",
    "data_N = pd.DataFrame(scaler2.fit_transform(data_N),columns=data_N.columns)\n",
    "data_final = pd.concat([data_E2N, data_N], axis=1)"
   ]
  },
  {
   "cell_type": "code",
   "execution_count": 10,
   "metadata": {},
   "outputs": [
    {
     "data": {
      "text/plain": [
       "0.0    5163\n",
       "1.0    1869\n",
       "Name: Churn, dtype: int64"
      ]
     },
     "execution_count": 10,
     "metadata": {},
     "output_type": "execute_result"
    }
   ],
   "source": [
    "data_final.Churn.value_counts()"
   ]
  },
  {
   "cell_type": "markdown",
   "metadata": {},
   "source": [
    "As we could observe, the dataset is not balanced based on the churn parameter. In order to get a reliable result, we need to downsampling the No Churn set of customer. "
   ]
  },
  {
   "cell_type": "code",
   "execution_count": 11,
   "metadata": {},
   "outputs": [],
   "source": [
    "x_train, x_test, y_train, y_test = train_test_split(data_final, data_final[\"Churn\"], stratify=data_final[\"Churn\"],test_size=0.3)\n",
    "count_nochurn, count_churn = x_train[\"Churn\"].value_counts()\n",
    "\n",
    "x_train_nochurn = x_train[x_train['Churn'] == 0.0]\n",
    "x_train_churn = x_train[x_train['Churn'] == 1.0]\n",
    "\n",
    "x_train_nochurn_resample = x_train_nochurn.sample(count_churn)\n",
    "x_train_resample = pd.concat([x_train_nochurn_resample, x_train_churn], axis=0)"
   ]
  },
  {
   "cell_type": "markdown",
   "metadata": {},
   "source": [
    "## Problem Solving\n",
    "\n",
    "For the binary classification problem with multiple dimensions, support vector machine is a common solution to find a robust classifier"
   ]
  },
  {
   "cell_type": "code",
   "execution_count": 12,
   "metadata": {},
   "outputs": [],
   "source": [
    "classifier = svm.SVC(gamma='auto')\n",
    "classifier.fit(x_train_resample.drop(columns=\"Churn\"), x_train_resample[\"Churn\"])\n",
    "y_predict=classifier.predict(x_test.drop(columns=\"Churn\"))"
   ]
  },
  {
   "cell_type": "code",
   "execution_count": 13,
   "metadata": {},
   "outputs": [
    {
     "name": "stdout",
     "output_type": "stream",
     "text": [
      "The accuracy score for the classifier is : 0.737914691943128\n",
      "The recall score for the classifier is : 0.8484848484848485\n",
      "The precision score for the classifier is :: 0.5042372881355932\n"
     ]
    },
    {
     "data": {
      "text/html": [
       "<div>\n",
       "<style scoped>\n",
       "    .dataframe tbody tr th:only-of-type {\n",
       "        vertical-align: middle;\n",
       "    }\n",
       "\n",
       "    .dataframe tbody tr th {\n",
       "        vertical-align: top;\n",
       "    }\n",
       "\n",
       "    .dataframe thead th {\n",
       "        text-align: right;\n",
       "    }\n",
       "</style>\n",
       "<table border=\"1\" class=\"dataframe\">\n",
       "  <thead>\n",
       "    <tr style=\"text-align: right;\">\n",
       "      <th></th>\n",
       "      <th>Churn_pred</th>\n",
       "      <th>No Churn_pred</th>\n",
       "    </tr>\n",
       "  </thead>\n",
       "  <tbody>\n",
       "    <tr>\n",
       "      <th>Churn_true</th>\n",
       "      <td>476</td>\n",
       "      <td>85</td>\n",
       "    </tr>\n",
       "    <tr>\n",
       "      <th>No Churn_true</th>\n",
       "      <td>468</td>\n",
       "      <td>1081</td>\n",
       "    </tr>\n",
       "  </tbody>\n",
       "</table>\n",
       "</div>"
      ],
      "text/plain": [
       "               Churn_pred  No Churn_pred\n",
       "Churn_true            476             85\n",
       "No Churn_true         468           1081"
      ]
     },
     "execution_count": 13,
     "metadata": {},
     "output_type": "execute_result"
    }
   ],
   "source": [
    "print(\"The accuracy score for the classifier is :\",accuracy_score(y_test,y_predict))\n",
    "print(\"The recall score for the classifier is :\",recall_score(y_test,y_predict,labels=[1,0]))\n",
    "print(\"The precision score for the classifier is ::\",precision_score(y_test,y_predict,labels=[1,0]))\n",
    "pd.DataFrame(confusion_matrix(y_test,y_predict,labels=[1,0]), [\"Churn_true\",\"No Churn_true\"], [\"Churn_pred\",\"No Churn_pred\"])"
   ]
  },
  {
   "cell_type": "markdown",
   "metadata": {},
   "source": [
    "### Cross Validation\n",
    "We could add cross validation to ensure that our model is not overfitting"
   ]
  },
  {
   "cell_type": "code",
   "execution_count": 14,
   "metadata": {},
   "outputs": [
    {
     "name": "stdout",
     "output_type": "stream",
     "text": [
      "               Churn_pred  No Churn_pred\n",
      "Churn_true            392             68\n",
      "No Churn_true         420            878\n",
      "               Churn_pred  No Churn_pred\n",
      "Churn_true            385             72\n",
      "No Churn_true         389            912\n",
      "               Churn_pred  No Churn_pred\n",
      "Churn_true            367             99\n",
      "No Churn_true         425            867\n",
      "               Churn_pred  No Churn_pred\n",
      "Churn_true            379            107\n",
      "No Churn_true         344            928\n",
      "The accuracy scores for the  4 -fold classifier is : [0.7224118316268487, 0.7377701934015927, 0.70193401592719, 0.7434584755403868]\n",
      "The recall scores for the  4 -fold classifier is : [0.8521739130434782, 0.8424507658643327, 0.7875536480686696, 0.779835390946502]\n",
      "The precision scores for the  4 -fold classifier is : [0.4827586206896552, 0.4974160206718346, 0.4633838383838384, 0.5242047026279392]\n"
     ]
    }
   ],
   "source": [
    "Accuracy_scores = []\n",
    "Recall_scores = []\n",
    "Precision_scores = []\n",
    "\n",
    "k = 4\n",
    "classifier = svm.SVC(gamma='auto')\n",
    "cv = KFold(n_splits=k, random_state=42, shuffle=False)\n",
    "for train_index, test_index in cv.split(data_final):\n",
    "    x_train, x_test, y_train, y_test = data_final.iloc[train_index], data_final.iloc[test_index], data_final.Churn.iloc[train_index], data_final.Churn.iloc[test_index]\n",
    "    \n",
    "    x_train_nochurn = x_train[x_train['Churn'] == 0.0]\n",
    "    x_train_churn = x_train[x_train['Churn'] == 1.0]\n",
    "\n",
    "    x_train_nochurn_resample = x_train_nochurn.sample(count_churn)\n",
    "    x_train_resample = pd.concat([x_train_nochurn_resample, x_train_churn], axis=0)\n",
    "    \n",
    "    classifier.fit(x_train_resample.drop(columns=\"Churn\"), x_train_resample[\"Churn\"])\n",
    "    y_predict=classifier.predict(x_test.drop(columns=\"Churn\"))\n",
    "    Accuracy_scores.append(accuracy_score(y_test,y_predict))\n",
    "    Recall_scores.append(recall_score(y_test,y_predict,labels=[1,0]))\n",
    "    Precision_scores.append(precision_score(y_test,y_predict,labels=[1,0]))\n",
    "    print(pd.DataFrame(confusion_matrix(y_test,y_predict,labels=[1,0]), [\"Churn_true\",\"No Churn_true\"], [\"Churn_pred\",\"No Churn_pred\"]))\n",
    "\n",
    "print(\"The accuracy scores for the \",k, \"-fold classifier is :\",Accuracy_scores)\n",
    "print(\"The recall scores for the \",k, \"-fold classifier is :\",Recall_scores)\n",
    "print(\"The precision scores for the \",k, \"-fold classifier is :\",Precision_scores)"
   ]
  },
  {
   "cell_type": "markdown",
   "metadata": {},
   "source": [
    "### Grid Search"
   ]
  },
  {
   "cell_type": "code",
   "execution_count": 15,
   "metadata": {},
   "outputs": [
    {
     "name": "stdout",
     "output_type": "stream",
     "text": [
      "The accuracy score for the best classifier is : 0.7241706161137441\n",
      "The recall score for the best classifier is : 0.8360071301247772\n",
      "The precision score for the best classifier is :: 0.48905109489051096\n"
     ]
    },
    {
     "data": {
      "text/html": [
       "<div>\n",
       "<style scoped>\n",
       "    .dataframe tbody tr th:only-of-type {\n",
       "        vertical-align: middle;\n",
       "    }\n",
       "\n",
       "    .dataframe tbody tr th {\n",
       "        vertical-align: top;\n",
       "    }\n",
       "\n",
       "    .dataframe thead th {\n",
       "        text-align: right;\n",
       "    }\n",
       "</style>\n",
       "<table border=\"1\" class=\"dataframe\">\n",
       "  <thead>\n",
       "    <tr style=\"text-align: right;\">\n",
       "      <th></th>\n",
       "      <th>Churn_pred</th>\n",
       "      <th>No Churn_pred</th>\n",
       "    </tr>\n",
       "  </thead>\n",
       "  <tbody>\n",
       "    <tr>\n",
       "      <th>Churn_true</th>\n",
       "      <td>469</td>\n",
       "      <td>92</td>\n",
       "    </tr>\n",
       "    <tr>\n",
       "      <th>No Churn_true</th>\n",
       "      <td>490</td>\n",
       "      <td>1059</td>\n",
       "    </tr>\n",
       "  </tbody>\n",
       "</table>\n",
       "</div>"
      ],
      "text/plain": [
       "               Churn_pred  No Churn_pred\n",
       "Churn_true            469             92\n",
       "No Churn_true         490           1059"
      ]
     },
     "execution_count": 15,
     "metadata": {},
     "output_type": "execute_result"
    }
   ],
   "source": [
    "param_grid = [\n",
    "  {'C': [1, 3, 10, 30, 100], 'kernel': ['linear']},\n",
    "  {'C': [1, 3, 10, 30, 100], 'kernel': ['rbf'], 'gamma': [0.0001, 0.0003, 0.001]}, \n",
    " ]\n",
    "svc = svm.SVC()\n",
    "classifier=GridSearchCV(svc,param_grid,cv=k)\n",
    "\n",
    "x_train, x_test, y_train, y_test = train_test_split(data_final, data_final[\"Churn\"], stratify=data_final[\"Churn\"],test_size=0.3)\n",
    "count_nochurn, count_churn = x_train[\"Churn\"].value_counts()\n",
    "\n",
    "x_train_nochurn = x_train[x_train['Churn'] == 0.0]\n",
    "x_train_churn = x_train[x_train['Churn'] == 1.0]\n",
    "\n",
    "x_train_nochurn_resample = x_train_nochurn.sample(count_churn)\n",
    "x_train_resample = pd.concat([x_train_nochurn_resample, x_train_churn], axis=0)\n",
    "\n",
    "classifier.fit(x_train_resample.drop(columns=\"Churn\"), x_train_resample[\"Churn\"])\n",
    "y_predict=classifier.predict(x_test.drop(columns=\"Churn\"))\n",
    "\n",
    "print(\"The accuracy score for the best classifier is :\",accuracy_score(y_test,y_predict))\n",
    "print(\"The recall score for the best classifier is :\",recall_score(y_test,y_predict,labels=[1,0]))\n",
    "print(\"The precision score for the best classifier is ::\",precision_score(y_test,y_predict,labels=[1,0]))\n",
    "pd.DataFrame(confusion_matrix(y_test,y_predict,labels=[1,0]), [\"Churn_true\",\"No Churn_true\"], [\"Churn_pred\",\"No Churn_pred\"])\n"
   ]
  }
 ],
 "metadata": {
  "kernelspec": {
   "display_name": "Python 3",
   "language": "python",
   "name": "python3"
  },
  "language_info": {
   "codemirror_mode": {
    "name": "ipython",
    "version": 3
   },
   "file_extension": ".py",
   "mimetype": "text/x-python",
   "name": "python",
   "nbconvert_exporter": "python",
   "pygments_lexer": "ipython3",
   "version": "3.7.3"
  }
 },
 "nbformat": 4,
 "nbformat_minor": 4
}
