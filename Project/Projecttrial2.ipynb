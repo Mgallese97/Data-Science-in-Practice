{
 "cells": [
  {
   "cell_type": "markdown",
   "metadata": {},
   "source": [
    "# <center> What makes a song a hit? \n",
    "    \n",
    "### <center> Data Science in Practice\n",
    "   Authors:\n",
    "    \n",
    "  "
   ]
  },
  {
   "cell_type": "code",
   "execution_count": 1,
   "metadata": {},
   "outputs": [],
   "source": [
    "import requests\n",
    "import pandas as pd\n",
    "import matplotlib.pyplot as plt\n",
    "import numpy as np\n",
    "import seaborn as sns\n",
    "import json\n",
    "pd.set_option('display.max_columns', None)"
   ]
  },
  {
   "cell_type": "markdown",
   "metadata": {},
   "source": [
    "## Introduction\n",
    "This is the jupyter notebook containing code used to complete the Data Science in Practice project. "
   ]
  },
  {
   "cell_type": "markdown",
   "metadata": {},
   "source": [
    "## Exploratory Data Analysis"
   ]
  },
  {
   "cell_type": "markdown",
   "metadata": {},
   "source": [
    "### Initial Overview\n",
    "Before looking for trends and patterns in time and amongst different categories we will first explore what the data looks like"
   ]
  },
  {
   "cell_type": "code",
   "execution_count": 2,
   "metadata": {},
   "outputs": [],
   "source": [
    "#Importing the finished datasets\n",
    "df18= pd.read_csv('2018weekconcat.csv')\n",
    "df19= pd.read_csv('2019weekconcat.csv')\n",
    "df19_merge = df19.copy()\n",
    "df19_merge.week = df19_merge.week + df18.week.max()\n",
    "dfall=pd.concat([df18, df19_merge], ignore_index=True)"
   ]
  },
  {
   "cell_type": "code",
   "execution_count": 3,
   "metadata": {},
   "outputs": [
    {
     "data": {
      "text/plain": [
       "audio_features    20800\n",
       "Name: type, dtype: int64"
      ]
     },
     "execution_count": 3,
     "metadata": {},
     "output_type": "execute_result"
    }
   ],
   "source": [
    "dfall.type.value_counts()"
   ]
  },
  {
   "cell_type": "code",
   "execution_count": 4,
   "metadata": {},
   "outputs": [],
   "source": [
    "df18['top'] = np.where(df18['Position']<df18.Position.quantile(0.2), 1, 0)\n",
    "df19['top'] = np.where(df19['Position']<df19.Position.quantile(0.2), 1, 0)\n",
    "dfall['top'] = np.where(dfall['Position']<dfall.Position.quantile(0.2), 1, 0)\n"
   ]
  },
  {
   "cell_type": "markdown",
   "metadata": {},
   "source": [
    "## Exploring possible time patterns"
   ]
  },
  {
   "cell_type": "markdown",
   "metadata": {},
   "source": [
    "## Feature Engineering\n",
    "### Step 1 Feature Selection"
   ]
  },
  {
   "cell_type": "code",
   "execution_count": 5,
   "metadata": {},
   "outputs": [],
   "source": [
    "dfall_fe = dfall.copy()\n",
    "dfall_fe = dfall_fe.drop(columns = ['URL', 'uri','track_href','analysis_url','type','Track Name'])"
   ]
  },
  {
   "cell_type": "markdown",
   "metadata": {},
   "source": [
    "Question: Type?\n",
    "the number of track name is compariable to the number of songs. "
   ]
  },
  {
   "cell_type": "code",
   "execution_count": 6,
   "metadata": {},
   "outputs": [],
   "source": [
    "dfall_fe_id_values = dfall_fe.id.unique().tolist()\n",
    "cdff = ['counts','index_prev','week_prev','pos_prev','stream_prev']\n",
    "vdff = np.empty((len(dfall_fe_id_values),len(cdff)))\n",
    "vdff[:] = np.nan\n",
    "dfFeature = pd.DataFrame(vdff, \n",
    "                         index =dfall_fe_id_values, columns = cdff)"
   ]
  },
  {
   "cell_type": "code",
   "execution_count": 7,
   "metadata": {},
   "outputs": [],
   "source": [
    "dfall_fe['hist'] = [0]*len(dfall_fe.index)\n",
    "dfall_fe['new'] = [0]*len(dfall_fe.index)"
   ]
  },
  {
   "cell_type": "code",
   "execution_count": 8,
   "metadata": {},
   "outputs": [],
   "source": [
    "# Sophie could check\n",
    "for i in range(dfall_fe.shape[0]):\n",
    "    if np.isnan(dfFeature.at[dfall_fe.id[i],'counts']):\n",
    "        dfall_fe.at[i,'new'] = 1\n",
    "        dfall_fe.at[i,'hist'] = 1\n",
    "        dfFeature.at[dfall_fe.id[i],'counts'] = 1\n",
    "        dfall_fe.at[i,'week_prev'] = 0\n",
    "        dfall_fe.at[i,'stream_prev'] = 0\n",
    "        dfall_fe.at[i,'pos_prev'] = 200\n",
    "        \n",
    "    else:\n",
    "        dfFeature.at[dfall_fe.id[i],'counts'] += 1\n",
    "        dfall_fe.at[i,'week_prev'] = dfFeature.at[dfall_fe.id[i],'week_prev']\n",
    "        dfall_fe.at[i,'stream_prev'] = dfFeature.at[dfall_fe.id[i],'stream_prev']\n",
    "        dfall_fe.at[i,'pos_prev'] = dfFeature.at[dfall_fe.id[i],'pos_prev']\n",
    "        dfall_fe.at[i,'hist'] = dfFeature.at[dfall_fe.id[i],'counts']\n",
    "    dfFeature.at[dfall_fe.id[i],'index_prev'] = i\n",
    "    dfFeature.at[dfall_fe.id[i],'week_prev'] = dfall_fe.at[i,'week']\n",
    "    dfFeature.at[dfall_fe.id[i],'stream_prev'] = dfall_fe.at[i,'Streams']\n",
    "    dfFeature.at[dfall_fe.id[i],'pos_prev'] = dfall_fe.at[i,'Position']"
   ]
  },
  {
   "cell_type": "code",
   "execution_count": 9,
   "metadata": {},
   "outputs": [
    {
     "data": {
      "text/plain": [
       "\"\\nfor i in range(100):\\n    if np.isnan(dfFeature[dfFeature.id == dfall_fe.id[i]].iat[0,0]):\\n        c = 1\\n        dfall_fe.at[i,'new'] = 1\\n    #    dfall_fe.at['hist',i] = 1\\n    #    dfFeature[dfFeature.id == dfall_fe.id[i]].iat[0,0]\\n    #else:\\n    #    dfall_fe.at['hist',i] += 1\\n    #dfFeature[dfFeature.id == dfall_fe.id[i]].iat[0,1] = i\\n    \""
      ]
     },
     "execution_count": 9,
     "metadata": {},
     "output_type": "execute_result"
    }
   ],
   "source": [
    "'''\n",
    "for i in range(100):\n",
    "    if np.isnan(dfFeature[dfFeature.id == dfall_fe.id[i]].iat[0,0]):\n",
    "        c = 1\n",
    "        dfall_fe.at[i,'new'] = 1\n",
    "    #    dfall_fe.at['hist',i] = 1\n",
    "    #    dfFeature[dfFeature.id == dfall_fe.id[i]].iat[0,0]\n",
    "    #else:\n",
    "    #    dfall_fe.at['hist',i] += 1\n",
    "    #dfFeature[dfFeature.id == dfall_fe.id[i]].iat[0,1] = i\n",
    "    '''"
   ]
  },
  {
   "cell_type": "markdown",
   "metadata": {},
   "source": [
    "# Part 2 Feature augmentation"
   ]
  },
  {
   "cell_type": "code",
   "execution_count": 10,
   "metadata": {},
   "outputs": [],
   "source": [
    "features=['danceability','energy','key','loudness','mode' ,'speechiness','acousticness','instrumentalness','liveness','valence','tempo','new','week_prev','pos_prev','stream_prev','duration_ms']    \n",
    "X_orig = dfall_fe[features]\n",
    "from sklearn.preprocessing import StandardScaler\n",
    "x = X_orig.values #returns a numpy array\n",
    "std_scaler = StandardScaler()\n",
    "x_scaled = std_scaler.fit_transform(x)\n",
    "\n",
    "X_scaled = pd.DataFrame(x_scaled, columns = features) "
   ]
  },
  {
   "cell_type": "code",
   "execution_count": 11,
   "metadata": {},
   "outputs": [],
   "source": [
    "def generate_polynormial_features_set( parameters ):\n",
    "    for order in range(2,3):\n",
    "        features_tmp = features\n",
    "        for i in range(len(features)):\n",
    "            features_tmp[i]= features[i]+'_'+str(order)\n",
    "            x_squared = x_scaled**order\n",
    "        if order == 2:\n",
    "            features_poly = \n",
    "X_squared = pd.DataFrame(x_squared, columns = features_squared) "
   ]
  },
  {
   "cell_type": "code",
   "execution_count": 12,
   "metadata": {},
   "outputs": [],
   "source": [
    "features_sqrt = features\n",
    "for i in range(len(features)):\n",
    "    features_sqrt[i]= features[i]+'_sqrt'\n",
    "\n",
    "x_sqrt = np.sqrt(np.abs(x_scaled))\n",
    "X_sqrt = pd.DataFrame(x_sqrt, columns = features_sqrt) "
   ]
  },
  {
   "cell_type": "code",
   "execution_count": 13,
   "metadata": {},
   "outputs": [],
   "source": [
    "features_sin = features\n",
    "for i in range(len(features)):\n",
    "    features_sin[i]= features[i]+'_sin'\n",
    "\n",
    "x_sin = np.sin(x_scaled)\n",
    "X_sin = pd.DataFrame(x_sin, columns = features_sin) "
   ]
  },
  {
   "cell_type": "code",
   "execution_count": 14,
   "metadata": {},
   "outputs": [],
   "source": [
    "features_cos = features\n",
    "for i in range(len(features)):\n",
    "    features_cos[i]= features[i]+'_cos'\n",
    "\n",
    "x_cos = np.cos(x_scaled)\n",
    "X_cos = pd.DataFrame(x_cos, columns = features_cos) "
   ]
  },
  {
   "cell_type": "code",
   "execution_count": 236,
   "metadata": {},
   "outputs": [],
   "source": [
    "X_combined = pd.concat([X_scaled, X_squared, X_sqrt, X_sin, X_cos], axis=1).reindex(X_scaled.index)"
   ]
  },
  {
   "cell_type": "markdown",
   "metadata": {},
   "source": [
    "## Modelling "
   ]
  },
  {
   "cell_type": "code",
   "execution_count": 10,
   "metadata": {},
   "outputs": [],
   "source": [
    "from sklearn.model_selection import train_test_split\n",
    "from sklearn import svm\n",
    "from sklearn.ensemble import RandomForestClassifier\n",
    "from sklearn.metrics import confusion_matrix , classification_report\n",
    "from sklearn.metrics import roc_curve, precision_recall_curve, auc, make_scorer, recall_score, accuracy_score, precision_score, confusion_matrix,average_precision_score"
   ]
  },
  {
   "cell_type": "markdown",
   "metadata": {},
   "source": [
    "### Random forest"
   ]
  },
  {
   "cell_type": "code",
   "execution_count": 11,
   "metadata": {},
   "outputs": [
    {
     "data": {
      "image/png": "[encoded data removed]",
      "text/plain": [
       "<Figure size 720x360 with 1 Axes>"
      ]
     },
     "metadata": {
      "needs_background": "light"
     },
     "output_type": "display_data"
    }
   ],
   "source": [
    "plt.figure(figsize=(10, 5))\n",
    "ax = sns.countplot(data=df19, x='top',palette=\"Pastel2\")\n",
    "ax.set(xlabel='top or not', ylabel='Num of songs')\n",
    "plt.title(\"Top Characterization\")\n",
    "plt.show()"
   ]
  },
  {
   "cell_type": "code",
   "execution_count": 12,
   "metadata": {},
   "outputs": [
    {
     "name": "stdout",
     "output_type": "stream",
     "text": [
      "Accuracy Score: 0.8302884615384616\n",
      "Recall Score: 0.35336538461538464\n",
      "Precision Score: 0.6363636363636364\n"
     ]
    },
    {
     "name": "stderr",
     "output_type": "stream",
     "text": [
      "C:\\Users\\ydi\\Anaconda3\\lib\\site-packages\\sklearn\\ensemble\\forest.py:245: FutureWarning: The default value of n_estimators will change from 10 in version 0.20 to 100 in 0.22.\n",
      "  \"10 in version 0.20 to 100 in 0.22.\", FutureWarning)\n"
     ]
    },
    {
     "data": {
      "image/png": "[encoded data removed]",
      "text/plain": [
       "<Figure size 432x288 with 1 Axes>"
      ]
     },
     "metadata": {
      "needs_background": "light"
     },
     "output_type": "display_data"
    }
   ],
   "source": [
    "features=['danceability','energy','key','loudness','mode' ,'speechiness','acousticness','instrumentalness','liveness','valence','tempo']            \n",
    "X=dfall[features]\n",
    "y=dfall['top']\n",
    "X_train, X_test, y_train, y_test = train_test_split(X, y,stratify=y, test_size=0.2)\n",
    "\n",
    "clf= RandomForestClassifier()\n",
    "clf.fit(X_train,y_train)\n",
    "y_pred= clf.predict(X_test)\n",
    "mat = confusion_matrix(y_test, y_pred)\n",
    "s1=sns.heatmap(mat.T, square=True, annot=True, fmt='d', cbar=False,\n",
    "          xticklabels=['No','Yes'],\n",
    "          yticklabels=['No','Yes'] )\n",
    "plt.xlabel('true label')\n",
    "plt.ylabel('predicted label')\n",
    "bottom, top = s1.get_ylim()\n",
    "s1.set_ylim(bottom + 0.5, top - 0.5)\n",
    "\n",
    "print(\"Accuracy Score:\",accuracy_score(y_test,y_pred))\n",
    "print(\"Recall Score:\",recall_score(y_test,y_pred,labels=[1,0]))\n",
    "print(\"Precision Score:\",precision_score(y_test,y_pred,labels=[1,0]))"
   ]
  },
  {
   "cell_type": "code",
   "execution_count": 13,
   "metadata": {},
   "outputs": [
    {
     "name": "stderr",
     "output_type": "stream",
     "text": [
      "C:\\Users\\ydi\\Anaconda3\\lib\\site-packages\\sklearn\\svm\\base.py:193: FutureWarning: The default value of gamma will change from 'auto' to 'scale' in version 0.22 to account better for unscaled features. Set gamma explicitly to 'auto' or 'scale' to avoid this warning.\n",
      "  \"avoid this warning.\", FutureWarning)\n"
     ]
    },
    {
     "name": "stdout",
     "output_type": "stream",
     "text": [
      "Accuracy Score: 0.8170673076923077\n",
      "Recall Score: 0.15985576923076922\n",
      "Precision Score: 0.6820512820512821\n"
     ]
    },
    {
     "data": {
      "text/plain": [
       "(2.0, 0.0)"
      ]
     },
     "execution_count": 13,
     "metadata": {},
     "output_type": "execute_result"
    },
    {
     "data": {
      "image/png": "[encoded data removed]",
      "text/plain": [
       "<Figure size 432x288 with 1 Axes>"
      ]
     },
     "metadata": {
      "needs_background": "light"
     },
     "output_type": "display_data"
    }
   ],
   "source": [
    "features=['danceability','energy','key','loudness','mode' ,'speechiness','acousticness','instrumentalness','liveness','valence','tempo']            \n",
    "X=dfall[features]\n",
    "y=dfall['top']\n",
    "X_train, X_test, y_train, y_test = train_test_split(X, y,stratify=y, test_size=0.2)\n",
    "\n",
    "clf = svm.SVC()\n",
    "clf.fit(X_train, y_train)  \n",
    "\n",
    "y_pred=clf.predict(X_test)\n",
    "\n",
    "print(\"Accuracy Score:\",accuracy_score(y_test,y_pred))\n",
    "print(\"Recall Score:\",recall_score(y_test,y_pred,labels=[1,0]))\n",
    "print(\"Precision Score:\",precision_score(y_test,y_pred,labels=[1,0]))\n",
    "\n",
    "mat = confusion_matrix(y_test, y_pred)\n",
    "s1=sns.heatmap(mat.T, square=True, annot=True, fmt='d', cbar=False,\n",
    "          xticklabels=['No','Yes'],\n",
    "          yticklabels=['No','Yes'] )\n",
    "plt.xlabel('true label')\n",
    "plt.ylabel('predicted label')\n",
    "bottom, top = s1.get_ylim()\n",
    "s1.set_ylim(bottom + 0.5, top - 0.5)"
   ]
  },
  {
   "cell_type": "markdown",
   "metadata": {},
   "source": [
    "### Balancing data set"
   ]
  },
  {
   "cell_type": "markdown",
   "metadata": {},
   "source": [
    "#### for dfall"
   ]
  },
  {
   "cell_type": "code",
   "execution_count": 14,
   "metadata": {},
   "outputs": [
    {
     "name": "stdout",
     "output_type": "stream",
     "text": [
      "df1count  3120\n",
      "df0count  12480\n",
      "df1_over  12480\n"
     ]
    },
    {
     "name": "stderr",
     "output_type": "stream",
     "text": [
      "C:\\Users\\ydi\\Anaconda3\\lib\\site-packages\\sklearn\\svm\\base.py:193: FutureWarning: The default value of gamma will change from 'auto' to 'scale' in version 0.22 to account better for unscaled features. Set gamma explicitly to 'auto' or 'scale' to avoid this warning.\n",
      "  \"avoid this warning.\", FutureWarning)\n"
     ]
    },
    {
     "name": "stdout",
     "output_type": "stream",
     "text": [
      "Accuracy Score: 0.6826923076923077\n",
      "Recall Score: 0.7384615384615385\n",
      "Precision Score: 0.35787511649580617\n"
     ]
    },
    {
     "data": {
      "text/plain": [
       "(2.0, 0.0)"
      ]
     },
     "execution_count": 14,
     "metadata": {},
     "output_type": "execute_result"
    },
    {
     "data": {
      "image/png": "[encoded data removed]",
      "text/plain": [
       "<Figure size 432x288 with 1 Axes>"
      ]
     },
     "metadata": {
      "needs_background": "light"
     },
     "output_type": "display_data"
    }
   ],
   "source": [
    "X_train, X_test, y_train, y_test = train_test_split(dfall, dfall[\"top\"], stratify=dfall[\"top\"])\n",
    "features=['danceability','energy','key','loudness','mode' ,'speechiness','acousticness','instrumentalness','liveness','valence','tempo']            \n",
    "\n",
    "# Divide by class\n",
    "df0 = X_train[X_train['top'] == 0]\n",
    "df1 = X_train[X_train['top'] == 1]\n",
    "df1count=df1.shape[0]\n",
    "df0count=df0.shape[0]\n",
    "print('df1count ',df1count)\n",
    "print('df0count ',df0count)\n",
    "df1_over = df1.sample(df0count, replace=True)\n",
    "print('df1_over ', df1_over.shape[0])\n",
    "X_trainb=pd.concat([df1_over, df0], ignore_index=True) #new training Xb balanced\n",
    "y_train=X_trainb['top']\n",
    "X_trainb=X_trainb[features]\n",
    "X_test=X_test[features]\n",
    "#retry svc\n",
    "clf = svm.SVC()\n",
    "clf.fit(X_trainb, y_train)  \n",
    "\n",
    "y_pred=clf.predict(X_test)\n",
    "\n",
    "print(\"Accuracy Score:\",accuracy_score(y_test,y_pred))\n",
    "print(\"Recall Score:\",recall_score(y_test,y_pred,labels=[1,0]))\n",
    "print(\"Precision Score:\",precision_score(y_test,y_pred,labels=[1,0]))\n",
    "\n",
    "mat = confusion_matrix(y_test, y_pred)\n",
    "s1=sns.heatmap(mat.T, square=True, annot=True, fmt='d', cbar=False,\n",
    "          xticklabels=['No','Yes'],\n",
    "          yticklabels=['No','Yes'] )\n",
    "plt.xlabel('true label')\n",
    "plt.ylabel('predicted label')\n",
    "bottom, top = s1.get_ylim()\n",
    "s1.set_ylim(bottom + 0.5, top - 0.5)"
   ]
  },
  {
   "cell_type": "markdown",
   "metadata": {},
   "source": [
    "## New section"
   ]
  },
  {
   "cell_type": "code",
   "execution_count": 15,
   "metadata": {},
   "outputs": [
    {
     "data": {
      "text/plain": [
       "1192"
      ]
     },
     "execution_count": 15,
     "metadata": {},
     "output_type": "execute_result"
    }
   ],
   "source": [
    "#number of distinct track name in 2019 200 weekly charts\n",
    "df19['Track Name'].unique().size"
   ]
  },
  {
   "cell_type": "markdown",
   "metadata": {},
   "source": [
    "Change data set and consider year as a whole, top meaning song reached top at some point"
   ]
  },
  {
   "cell_type": "code",
   "execution_count": 16,
   "metadata": {},
   "outputs": [
    {
     "data": {
      "text/plain": [
       "353"
      ]
     },
     "execution_count": 16,
     "metadata": {},
     "output_type": "execute_result"
    }
   ],
   "source": [
    "df19top=df19[df19['top']==1]\n",
    "df19top['Track Name'].unique().size"
   ]
  },
  {
   "cell_type": "markdown",
   "metadata": {},
   "source": [
    "drop non feature column and then add \"top\" if at some point during the year the song was popular"
   ]
  },
  {
   "cell_type": "code",
   "execution_count": 17,
   "metadata": {},
   "outputs": [
    {
     "data": {
      "text/html": [
       "<div>\n",
       "<style scoped>\n",
       "    .dataframe tbody tr th:only-of-type {\n",
       "        vertical-align: middle;\n",
       "    }\n",
       "\n",
       "    .dataframe tbody tr th {\n",
       "        vertical-align: top;\n",
       "    }\n",
       "\n",
       "    .dataframe thead th {\n",
       "        text-align: right;\n",
       "    }\n",
       "</style>\n",
       "<table border=\"1\" class=\"dataframe\">\n",
       "  <thead>\n",
       "    <tr style=\"text-align: right;\">\n",
       "      <th></th>\n",
       "      <th>Position</th>\n",
       "      <th>Track Name</th>\n",
       "      <th>Artist</th>\n",
       "      <th>Streams</th>\n",
       "      <th>URL</th>\n",
       "      <th>danceability</th>\n",
       "      <th>energy</th>\n",
       "      <th>key</th>\n",
       "      <th>loudness</th>\n",
       "      <th>mode</th>\n",
       "      <th>...</th>\n",
       "      <th>type</th>\n",
       "      <th>id</th>\n",
       "      <th>uri</th>\n",
       "      <th>track_href</th>\n",
       "      <th>analysis_url</th>\n",
       "      <th>duration_ms</th>\n",
       "      <th>time_signature</th>\n",
       "      <th>week</th>\n",
       "      <th>year</th>\n",
       "      <th>top</th>\n",
       "    </tr>\n",
       "  </thead>\n",
       "  <tbody>\n",
       "    <tr>\n",
       "      <th>0</th>\n",
       "      <td>1</td>\n",
       "      <td>Sunflower - Spider-Man: Into the Spider-Verse</td>\n",
       "      <td>Post Malone</td>\n",
       "      <td>14202522</td>\n",
       "      <td>https://open.spotify.com/track/3KkXRkHbMCARz0a...</td>\n",
       "      <td>0.760</td>\n",
       "      <td>0.479</td>\n",
       "      <td>2</td>\n",
       "      <td>-5.574</td>\n",
       "      <td>1</td>\n",
       "      <td>...</td>\n",
       "      <td>audio_features</td>\n",
       "      <td>3KkXRkHbMCARz0aVfEt68P</td>\n",
       "      <td>spotify:track:3KkXRkHbMCARz0aVfEt68P</td>\n",
       "      <td>https://api.spotify.com/v1/tracks/3KkXRkHbMCAR...</td>\n",
       "      <td>https://api.spotify.com/v1/audio-analysis/3KkX...</td>\n",
       "      <td>158040</td>\n",
       "      <td>4</td>\n",
       "      <td>1</td>\n",
       "      <td>2019</td>\n",
       "      <td>1</td>\n",
       "    </tr>\n",
       "    <tr>\n",
       "      <th>1</th>\n",
       "      <td>2</td>\n",
       "      <td>Wow.</td>\n",
       "      <td>Post Malone</td>\n",
       "      <td>12721360</td>\n",
       "      <td>https://open.spotify.com/track/6MWtB6iiXyIwun0...</td>\n",
       "      <td>0.833</td>\n",
       "      <td>0.539</td>\n",
       "      <td>11</td>\n",
       "      <td>-7.399</td>\n",
       "      <td>0</td>\n",
       "      <td>...</td>\n",
       "      <td>audio_features</td>\n",
       "      <td>6MWtB6iiXyIwun0YzU6DFP</td>\n",
       "      <td>spotify:track:6MWtB6iiXyIwun0YzU6DFP</td>\n",
       "      <td>https://api.spotify.com/v1/tracks/6MWtB6iiXyIw...</td>\n",
       "      <td>https://api.spotify.com/v1/audio-analysis/6MWt...</td>\n",
       "      <td>149520</td>\n",
       "      <td>4</td>\n",
       "      <td>1</td>\n",
       "      <td>2019</td>\n",
       "      <td>1</td>\n",
       "    </tr>\n",
       "    <tr>\n",
       "      <th>2</th>\n",
       "      <td>3</td>\n",
       "      <td>Going Bad (feat. Drake)</td>\n",
       "      <td>Meek Mill</td>\n",
       "      <td>9576466</td>\n",
       "      <td>https://open.spotify.com/track/2IRZnDFmlqMuOrY...</td>\n",
       "      <td>0.889</td>\n",
       "      <td>0.496</td>\n",
       "      <td>4</td>\n",
       "      <td>-6.365</td>\n",
       "      <td>0</td>\n",
       "      <td>...</td>\n",
       "      <td>audio_features</td>\n",
       "      <td>2IRZnDFmlqMuOrYOLnZZyc</td>\n",
       "      <td>spotify:track:2IRZnDFmlqMuOrYOLnZZyc</td>\n",
       "      <td>https://api.spotify.com/v1/tracks/2IRZnDFmlqMu...</td>\n",
       "      <td>https://api.spotify.com/v1/audio-analysis/2IRZ...</td>\n",
       "      <td>180522</td>\n",
       "      <td>4</td>\n",
       "      <td>1</td>\n",
       "      <td>2019</td>\n",
       "      <td>1</td>\n",
       "    </tr>\n",
       "    <tr>\n",
       "      <th>3</th>\n",
       "      <td>4</td>\n",
       "      <td>SICKO MODE</td>\n",
       "      <td>Travis Scott</td>\n",
       "      <td>9005380</td>\n",
       "      <td>https://open.spotify.com/track/2xLMifQCjDGFmkH...</td>\n",
       "      <td>0.834</td>\n",
       "      <td>0.730</td>\n",
       "      <td>8</td>\n",
       "      <td>-3.714</td>\n",
       "      <td>1</td>\n",
       "      <td>...</td>\n",
       "      <td>audio_features</td>\n",
       "      <td>2xLMifQCjDGFmkHkpNLD9h</td>\n",
       "      <td>spotify:track:2xLMifQCjDGFmkHkpNLD9h</td>\n",
       "      <td>https://api.spotify.com/v1/tracks/2xLMifQCjDGF...</td>\n",
       "      <td>https://api.spotify.com/v1/audio-analysis/2xLM...</td>\n",
       "      <td>312820</td>\n",
       "      <td>4</td>\n",
       "      <td>1</td>\n",
       "      <td>2019</td>\n",
       "      <td>1</td>\n",
       "    </tr>\n",
       "    <tr>\n",
       "      <th>4</th>\n",
       "      <td>5</td>\n",
       "      <td>Drip Too Hard (Lil Baby &amp; Gunna)</td>\n",
       "      <td>Lil Baby</td>\n",
       "      <td>8917200</td>\n",
       "      <td>https://open.spotify.com/track/78QR3Wp35dqAhFE...</td>\n",
       "      <td>0.897</td>\n",
       "      <td>0.662</td>\n",
       "      <td>1</td>\n",
       "      <td>-6.903</td>\n",
       "      <td>0</td>\n",
       "      <td>...</td>\n",
       "      <td>audio_features</td>\n",
       "      <td>78QR3Wp35dqAhFEc2qAGjE</td>\n",
       "      <td>spotify:track:78QR3Wp35dqAhFEc2qAGjE</td>\n",
       "      <td>https://api.spotify.com/v1/tracks/78QR3Wp35dqA...</td>\n",
       "      <td>https://api.spotify.com/v1/audio-analysis/78QR...</td>\n",
       "      <td>145543</td>\n",
       "      <td>4</td>\n",
       "      <td>1</td>\n",
       "      <td>2019</td>\n",
       "      <td>1</td>\n",
       "    </tr>\n",
       "  </tbody>\n",
       "</table>\n",
       "<p>5 rows × 26 columns</p>\n",
       "</div>"
      ],
      "text/plain": [
       "   Position                                     Track Name        Artist  \\\n",
       "0         1  Sunflower - Spider-Man: Into the Spider-Verse   Post Malone   \n",
       "1         2                                           Wow.   Post Malone   \n",
       "2         3                        Going Bad (feat. Drake)     Meek Mill   \n",
       "3         4                                     SICKO MODE  Travis Scott   \n",
       "4         5               Drip Too Hard (Lil Baby & Gunna)      Lil Baby   \n",
       "\n",
       "    Streams                                                URL  danceability  \\\n",
       "0  14202522  https://open.spotify.com/track/3KkXRkHbMCARz0a...         0.760   \n",
       "1  12721360  https://open.spotify.com/track/6MWtB6iiXyIwun0...         0.833   \n",
       "2   9576466  https://open.spotify.com/track/2IRZnDFmlqMuOrY...         0.889   \n",
       "3   9005380  https://open.spotify.com/track/2xLMifQCjDGFmkH...         0.834   \n",
       "4   8917200  https://open.spotify.com/track/78QR3Wp35dqAhFE...         0.897   \n",
       "\n",
       "   energy  key  loudness  mode  ...            type                      id  \\\n",
       "0   0.479    2    -5.574     1  ...  audio_features  3KkXRkHbMCARz0aVfEt68P   \n",
       "1   0.539   11    -7.399     0  ...  audio_features  6MWtB6iiXyIwun0YzU6DFP   \n",
       "2   0.496    4    -6.365     0  ...  audio_features  2IRZnDFmlqMuOrYOLnZZyc   \n",
       "3   0.730    8    -3.714     1  ...  audio_features  2xLMifQCjDGFmkHkpNLD9h   \n",
       "4   0.662    1    -6.903     0  ...  audio_features  78QR3Wp35dqAhFEc2qAGjE   \n",
       "\n",
       "                                    uri  \\\n",
       "0  spotify:track:3KkXRkHbMCARz0aVfEt68P   \n",
       "1  spotify:track:6MWtB6iiXyIwun0YzU6DFP   \n",
       "2  spotify:track:2IRZnDFmlqMuOrYOLnZZyc   \n",
       "3  spotify:track:2xLMifQCjDGFmkHkpNLD9h   \n",
       "4  spotify:track:78QR3Wp35dqAhFEc2qAGjE   \n",
       "\n",
       "                                          track_href  \\\n",
       "0  https://api.spotify.com/v1/tracks/3KkXRkHbMCAR...   \n",
       "1  https://api.spotify.com/v1/tracks/6MWtB6iiXyIw...   \n",
       "2  https://api.spotify.com/v1/tracks/2IRZnDFmlqMu...   \n",
       "3  https://api.spotify.com/v1/tracks/2xLMifQCjDGF...   \n",
       "4  https://api.spotify.com/v1/tracks/78QR3Wp35dqA...   \n",
       "\n",
       "                                        analysis_url  duration_ms  \\\n",
       "0  https://api.spotify.com/v1/audio-analysis/3KkX...       158040   \n",
       "1  https://api.spotify.com/v1/audio-analysis/6MWt...       149520   \n",
       "2  https://api.spotify.com/v1/audio-analysis/2IRZ...       180522   \n",
       "3  https://api.spotify.com/v1/audio-analysis/2xLM...       312820   \n",
       "4  https://api.spotify.com/v1/audio-analysis/78QR...       145543   \n",
       "\n",
       "  time_signature week  year top  \n",
       "0              4    1  2019   1  \n",
       "1              4    1  2019   1  \n",
       "2              4    1  2019   1  \n",
       "3              4    1  2019   1  \n",
       "4              4    1  2019   1  \n",
       "\n",
       "[5 rows x 26 columns]"
      ]
     },
     "execution_count": 17,
     "metadata": {},
     "output_type": "execute_result"
    }
   ],
   "source": [
    "df19.head()"
   ]
  },
  {
   "cell_type": "markdown",
   "metadata": {},
   "source": [
    "### New measure of top song\n",
    "Sort ascending position and keep smallest by dropping ong duplicates. This results in all distinct songs and being top means that at some point it was in the top 20"
   ]
  },
  {
   "cell_type": "code",
   "execution_count": 18,
   "metadata": {},
   "outputs": [
    {
     "data": {
      "text/html": [
       "<div>\n",
       "<style scoped>\n",
       "    .dataframe tbody tr th:only-of-type {\n",
       "        vertical-align: middle;\n",
       "    }\n",
       "\n",
       "    .dataframe tbody tr th {\n",
       "        vertical-align: top;\n",
       "    }\n",
       "\n",
       "    .dataframe thead th {\n",
       "        text-align: right;\n",
       "    }\n",
       "</style>\n",
       "<table border=\"1\" class=\"dataframe\">\n",
       "  <thead>\n",
       "    <tr style=\"text-align: right;\">\n",
       "      <th></th>\n",
       "      <th>Position</th>\n",
       "      <th>Track Name</th>\n",
       "      <th>Artist</th>\n",
       "      <th>Streams</th>\n",
       "      <th>URL</th>\n",
       "      <th>danceability</th>\n",
       "      <th>energy</th>\n",
       "      <th>key</th>\n",
       "      <th>loudness</th>\n",
       "      <th>mode</th>\n",
       "      <th>...</th>\n",
       "      <th>type</th>\n",
       "      <th>id</th>\n",
       "      <th>uri</th>\n",
       "      <th>track_href</th>\n",
       "      <th>analysis_url</th>\n",
       "      <th>duration_ms</th>\n",
       "      <th>time_signature</th>\n",
       "      <th>week</th>\n",
       "      <th>year</th>\n",
       "      <th>top</th>\n",
       "    </tr>\n",
       "  </thead>\n",
       "  <tbody>\n",
       "    <tr>\n",
       "      <th>0</th>\n",
       "      <td>1</td>\n",
       "      <td>Sunflower - Spider-Man: Into the Spider-Verse</td>\n",
       "      <td>Post Malone</td>\n",
       "      <td>14202522</td>\n",
       "      <td>https://open.spotify.com/track/3KkXRkHbMCARz0a...</td>\n",
       "      <td>0.760</td>\n",
       "      <td>0.479</td>\n",
       "      <td>2</td>\n",
       "      <td>-5.574</td>\n",
       "      <td>1</td>\n",
       "      <td>...</td>\n",
       "      <td>audio_features</td>\n",
       "      <td>3KkXRkHbMCARz0aVfEt68P</td>\n",
       "      <td>spotify:track:3KkXRkHbMCARz0aVfEt68P</td>\n",
       "      <td>https://api.spotify.com/v1/tracks/3KkXRkHbMCAR...</td>\n",
       "      <td>https://api.spotify.com/v1/audio-analysis/3KkX...</td>\n",
       "      <td>158040</td>\n",
       "      <td>4</td>\n",
       "      <td>1</td>\n",
       "      <td>2019</td>\n",
       "      <td>1</td>\n",
       "    </tr>\n",
       "    <tr>\n",
       "      <th>1</th>\n",
       "      <td>1</td>\n",
       "      <td>Señorita</td>\n",
       "      <td>Shawn Mendes</td>\n",
       "      <td>14244170</td>\n",
       "      <td>https://open.spotify.com/track/0TK2YIli7K1leLo...</td>\n",
       "      <td>0.759</td>\n",
       "      <td>0.540</td>\n",
       "      <td>9</td>\n",
       "      <td>-6.039</td>\n",
       "      <td>0</td>\n",
       "      <td>...</td>\n",
       "      <td>audio_features</td>\n",
       "      <td>0TK2YIli7K1leLovkQiNik</td>\n",
       "      <td>spotify:track:0TK2YIli7K1leLovkQiNik</td>\n",
       "      <td>https://api.spotify.com/v1/tracks/0TK2YIli7K1l...</td>\n",
       "      <td>https://api.spotify.com/v1/audio-analysis/0TK2...</td>\n",
       "      <td>190960</td>\n",
       "      <td>4</td>\n",
       "      <td>25</td>\n",
       "      <td>2019</td>\n",
       "      <td>1</td>\n",
       "    </tr>\n",
       "    <tr>\n",
       "      <th>2</th>\n",
       "      <td>1</td>\n",
       "      <td>HIGHEST IN THE ROOM</td>\n",
       "      <td>Travis Scott</td>\n",
       "      <td>9395208</td>\n",
       "      <td>https://open.spotify.com/track/3eekarcy7kvN4yt...</td>\n",
       "      <td>0.598</td>\n",
       "      <td>0.427</td>\n",
       "      <td>7</td>\n",
       "      <td>-8.764</td>\n",
       "      <td>0</td>\n",
       "      <td>...</td>\n",
       "      <td>audio_features</td>\n",
       "      <td>3eekarcy7kvN4yt5ZFzltW</td>\n",
       "      <td>spotify:track:3eekarcy7kvN4yt5ZFzltW</td>\n",
       "      <td>https://api.spotify.com/v1/tracks/3eekarcy7kvN...</td>\n",
       "      <td>https://api.spotify.com/v1/audio-analysis/3eek...</td>\n",
       "      <td>175721</td>\n",
       "      <td>4</td>\n",
       "      <td>44</td>\n",
       "      <td>2019</td>\n",
       "      <td>1</td>\n",
       "    </tr>\n",
       "    <tr>\n",
       "      <th>3</th>\n",
       "      <td>1</td>\n",
       "      <td>Goodbyes (Feat. Young Thug)</td>\n",
       "      <td>Post Malone</td>\n",
       "      <td>14539019</td>\n",
       "      <td>https://open.spotify.com/track/6vBdBCoOhKHiYDD...</td>\n",
       "      <td>0.580</td>\n",
       "      <td>0.653</td>\n",
       "      <td>5</td>\n",
       "      <td>-3.818</td>\n",
       "      <td>1</td>\n",
       "      <td>...</td>\n",
       "      <td>audio_features</td>\n",
       "      <td>6vBdBCoOhKHiYDDOcorfNo</td>\n",
       "      <td>spotify:track:6vBdBCoOhKHiYDDOcorfNo</td>\n",
       "      <td>https://api.spotify.com/v1/tracks/6vBdBCoOhKHi...</td>\n",
       "      <td>https://api.spotify.com/v1/audio-analysis/6vBd...</td>\n",
       "      <td>174960</td>\n",
       "      <td>4</td>\n",
       "      <td>27</td>\n",
       "      <td>2019</td>\n",
       "      <td>1</td>\n",
       "    </tr>\n",
       "    <tr>\n",
       "      <th>4</th>\n",
       "      <td>1</td>\n",
       "      <td>MIDDLE CHILD</td>\n",
       "      <td>J. Cole</td>\n",
       "      <td>20663232</td>\n",
       "      <td>https://open.spotify.com/track/2JvzF1RMd7lE3Km...</td>\n",
       "      <td>0.837</td>\n",
       "      <td>0.364</td>\n",
       "      <td>8</td>\n",
       "      <td>-11.713</td>\n",
       "      <td>1</td>\n",
       "      <td>...</td>\n",
       "      <td>audio_features</td>\n",
       "      <td>2JvzF1RMd7lE3KmFlsyZD8</td>\n",
       "      <td>spotify:track:2JvzF1RMd7lE3KmFlsyZD8</td>\n",
       "      <td>https://api.spotify.com/v1/tracks/2JvzF1RMd7lE...</td>\n",
       "      <td>https://api.spotify.com/v1/audio-analysis/2Jvz...</td>\n",
       "      <td>213594</td>\n",
       "      <td>4</td>\n",
       "      <td>4</td>\n",
       "      <td>2019</td>\n",
       "      <td>1</td>\n",
       "    </tr>\n",
       "  </tbody>\n",
       "</table>\n",
       "<p>5 rows × 26 columns</p>\n",
       "</div>"
      ],
      "text/plain": [
       "   Position                                     Track Name        Artist  \\\n",
       "0         1  Sunflower - Spider-Man: Into the Spider-Verse   Post Malone   \n",
       "1         1                                       Señorita  Shawn Mendes   \n",
       "2         1                            HIGHEST IN THE ROOM  Travis Scott   \n",
       "3         1                    Goodbyes (Feat. Young Thug)   Post Malone   \n",
       "4         1                                   MIDDLE CHILD       J. Cole   \n",
       "\n",
       "    Streams                                                URL  danceability  \\\n",
       "0  14202522  https://open.spotify.com/track/3KkXRkHbMCARz0a...         0.760   \n",
       "1  14244170  https://open.spotify.com/track/0TK2YIli7K1leLo...         0.759   \n",
       "2   9395208  https://open.spotify.com/track/3eekarcy7kvN4yt...         0.598   \n",
       "3  14539019  https://open.spotify.com/track/6vBdBCoOhKHiYDD...         0.580   \n",
       "4  20663232  https://open.spotify.com/track/2JvzF1RMd7lE3Km...         0.837   \n",
       "\n",
       "   energy  key  loudness  mode  ...            type                      id  \\\n",
       "0   0.479    2    -5.574     1  ...  audio_features  3KkXRkHbMCARz0aVfEt68P   \n",
       "1   0.540    9    -6.039     0  ...  audio_features  0TK2YIli7K1leLovkQiNik   \n",
       "2   0.427    7    -8.764     0  ...  audio_features  3eekarcy7kvN4yt5ZFzltW   \n",
       "3   0.653    5    -3.818     1  ...  audio_features  6vBdBCoOhKHiYDDOcorfNo   \n",
       "4   0.364    8   -11.713     1  ...  audio_features  2JvzF1RMd7lE3KmFlsyZD8   \n",
       "\n",
       "                                    uri  \\\n",
       "0  spotify:track:3KkXRkHbMCARz0aVfEt68P   \n",
       "1  spotify:track:0TK2YIli7K1leLovkQiNik   \n",
       "2  spotify:track:3eekarcy7kvN4yt5ZFzltW   \n",
       "3  spotify:track:6vBdBCoOhKHiYDDOcorfNo   \n",
       "4  spotify:track:2JvzF1RMd7lE3KmFlsyZD8   \n",
       "\n",
       "                                          track_href  \\\n",
       "0  https://api.spotify.com/v1/tracks/3KkXRkHbMCAR...   \n",
       "1  https://api.spotify.com/v1/tracks/0TK2YIli7K1l...   \n",
       "2  https://api.spotify.com/v1/tracks/3eekarcy7kvN...   \n",
       "3  https://api.spotify.com/v1/tracks/6vBdBCoOhKHi...   \n",
       "4  https://api.spotify.com/v1/tracks/2JvzF1RMd7lE...   \n",
       "\n",
       "                                        analysis_url  duration_ms  \\\n",
       "0  https://api.spotify.com/v1/audio-analysis/3KkX...       158040   \n",
       "1  https://api.spotify.com/v1/audio-analysis/0TK2...       190960   \n",
       "2  https://api.spotify.com/v1/audio-analysis/3eek...       175721   \n",
       "3  https://api.spotify.com/v1/audio-analysis/6vBd...       174960   \n",
       "4  https://api.spotify.com/v1/audio-analysis/2Jvz...       213594   \n",
       "\n",
       "  time_signature week  year top  \n",
       "0              4    1  2019   1  \n",
       "1              4   25  2019   1  \n",
       "2              4   44  2019   1  \n",
       "3              4   27  2019   1  \n",
       "4              4    4  2019   1  \n",
       "\n",
       "[5 rows x 26 columns]"
      ]
     },
     "execution_count": 18,
     "metadata": {},
     "output_type": "execute_result"
    }
   ],
   "source": [
    "df19nondup=df19.sort_values('Position', ascending=True).drop_duplicates('Track Name')\n",
    "df19nondup.index = np.arange(len(df19nondup))\n",
    "df19nondup.head()"
   ]
  },
  {
   "cell_type": "code",
   "execution_count": 19,
   "metadata": {},
   "outputs": [
    {
     "data": {
      "image/png": "[encoded data removed]",
      "text/plain": [
       "<Figure size 720x360 with 1 Axes>"
      ]
     },
     "metadata": {
      "needs_background": "light"
     },
     "output_type": "display_data"
    }
   ],
   "source": [
    "plt.figure(figsize=(10, 5))\n",
    "ax = sns.countplot(data=df19nondup, x='top',palette=\"Pastel2\")\n",
    "ax.set(xlabel='top or not', ylabel='Num of songs')\n",
    "plt.title(\"Top Characterization\")\n",
    "plt.show()"
   ]
  },
  {
   "cell_type": "code",
   "execution_count": 20,
   "metadata": {},
   "outputs": [
    {
     "name": "stdout",
     "output_type": "stream",
     "text": [
      "Accuracy Score: 0.6861924686192469\n",
      "Recall Score: 0.1267605633802817\n",
      "Precision Score: 0.4090909090909091\n"
     ]
    },
    {
     "name": "stderr",
     "output_type": "stream",
     "text": [
      "C:\\Users\\ydi\\Anaconda3\\lib\\site-packages\\sklearn\\ensemble\\forest.py:245: FutureWarning: The default value of n_estimators will change from 10 in version 0.20 to 100 in 0.22.\n",
      "  \"10 in version 0.20 to 100 in 0.22.\", FutureWarning)\n"
     ]
    },
    {
     "data": {
      "image/png": "[encoded data removed]",
      "text/plain": [
       "<Figure size 432x288 with 1 Axes>"
      ]
     },
     "metadata": {
      "needs_background": "light"
     },
     "output_type": "display_data"
    }
   ],
   "source": [
    "features=['danceability','energy','key','loudness','mode' ,'speechiness','acousticness','instrumentalness','liveness','valence','tempo']            \n",
    "X=df19nondup[features]\n",
    "y=df19nondup['top']\n",
    "X_train, X_test, y_train, y_test = train_test_split(X, y,stratify=y, test_size=0.2)\n",
    "\n",
    "clf= RandomForestClassifier()\n",
    "clf.fit(X_train,y_train)\n",
    "y_pred= clf.predict(X_test)\n",
    "mat = confusion_matrix(y_test, y_pred)\n",
    "s1=sns.heatmap(mat.T, square=True, annot=True, fmt='d', cbar=False,\n",
    "          xticklabels=['No','Yes'],\n",
    "          yticklabels=['No','Yes'] )\n",
    "plt.xlabel('true label')\n",
    "plt.ylabel('predicted label')\n",
    "bottom, top = s1.get_ylim()\n",
    "s1.set_ylim(bottom + 0.5, top - 0.5)\n",
    "\n",
    "print(\"Accuracy Score:\",accuracy_score(y_test,y_pred))\n",
    "print(\"Recall Score:\",recall_score(y_test,y_pred,labels=[1,0]))\n",
    "print(\"Precision Score:\",precision_score(y_test,y_pred,labels=[1,0]))"
   ]
  },
  {
   "cell_type": "code",
   "execution_count": 21,
   "metadata": {},
   "outputs": [
    {
     "name": "stdout",
     "output_type": "stream",
     "text": [
      "Accuracy Score: 0.698744769874477\n",
      "Recall Score: 0.028169014084507043\n",
      "Precision Score: 0.4\n"
     ]
    },
    {
     "name": "stderr",
     "output_type": "stream",
     "text": [
      "C:\\Users\\ydi\\Anaconda3\\lib\\site-packages\\sklearn\\svm\\base.py:193: FutureWarning: The default value of gamma will change from 'auto' to 'scale' in version 0.22 to account better for unscaled features. Set gamma explicitly to 'auto' or 'scale' to avoid this warning.\n",
      "  \"avoid this warning.\", FutureWarning)\n"
     ]
    },
    {
     "data": {
      "text/plain": [
       "(2.0, 0.0)"
      ]
     },
     "execution_count": 21,
     "metadata": {},
     "output_type": "execute_result"
    },
    {
     "data": {
      "image/png": "[encoded data removed]",
      "text/plain": [
       "<Figure size 432x288 with 1 Axes>"
      ]
     },
     "metadata": {
      "needs_background": "light"
     },
     "output_type": "display_data"
    }
   ],
   "source": [
    "clf = svm.SVC()\n",
    "clf.fit(X_train, y_train)  \n",
    "\n",
    "y_pred=clf.predict(X_test)\n",
    "\n",
    "print(\"Accuracy Score:\",accuracy_score(y_test,y_pred))\n",
    "print(\"Recall Score:\",recall_score(y_test,y_pred,labels=[1,0]))\n",
    "print(\"Precision Score:\",precision_score(y_test,y_pred,labels=[1,0]))\n",
    "\n",
    "mat = confusion_matrix(y_test, y_pred)\n",
    "s1=sns.heatmap(mat.T, square=True, annot=True, fmt='d', cbar=False,\n",
    "          xticklabels=['No','Yes'],\n",
    "          yticklabels=['No','Yes'] )\n",
    "plt.xlabel('true label')\n",
    "plt.ylabel('predicted label')\n",
    "bottom, top = s1.get_ylim()\n",
    "s1.set_ylim(bottom + 0.5, top - 0.5)"
   ]
  },
  {
   "cell_type": "code",
   "execution_count": 22,
   "metadata": {},
   "outputs": [
    {
     "name": "stdout",
     "output_type": "stream",
     "text": [
      "df1count  265\n",
      "df0count  629\n",
      "df1_over  629\n",
      "Accuracy Score: 0.5302013422818792\n",
      "Recall Score: 0.25\n",
      "Precision Score: 0.22916666666666666\n"
     ]
    },
    {
     "name": "stderr",
     "output_type": "stream",
     "text": [
      "C:\\Users\\ydi\\Anaconda3\\lib\\site-packages\\sklearn\\svm\\base.py:193: FutureWarning: The default value of gamma will change from 'auto' to 'scale' in version 0.22 to account better for unscaled features. Set gamma explicitly to 'auto' or 'scale' to avoid this warning.\n",
      "  \"avoid this warning.\", FutureWarning)\n"
     ]
    },
    {
     "data": {
      "text/plain": [
       "(2.0, 0.0)"
      ]
     },
     "execution_count": 22,
     "metadata": {},
     "output_type": "execute_result"
    },
    {
     "data": {
      "image/png": "[encoded data removed]",
      "text/plain": [
       "<Figure size 432x288 with 1 Axes>"
      ]
     },
     "metadata": {
      "needs_background": "light"
     },
     "output_type": "display_data"
    }
   ],
   "source": [
    "X_train, X_test, y_train, y_test = train_test_split(df19nondup, df19nondup[\"top\"], stratify=df19nondup[\"top\"])\n",
    "features=['danceability','energy','key','loudness','mode' ,'speechiness','acousticness','instrumentalness','liveness','valence','tempo']            \n",
    "\n",
    "# Divide by class\n",
    "df0 = X_train[X_train['top'] == 0]\n",
    "df1 = X_train[X_train['top'] == 1]\n",
    "df1count=df1.shape[0]\n",
    "df0count=df0.shape[0]\n",
    "print('df1count ',df1count)\n",
    "print('df0count ',df0count)\n",
    "df1_over = df1.sample(df0count, replace=True)\n",
    "print('df1_over ', df1_over.shape[0])\n",
    "X_trainb=pd.concat([df1_over, df0], ignore_index=True) #new training Xb balanced\n",
    "y_train=X_trainb['top']\n",
    "X_trainb=X_trainb[features]\n",
    "X_test=X_test[features]\n",
    "#retry svc\n",
    "clf = svm.SVC()\n",
    "clf.fit(X_trainb, y_train)  \n",
    "\n",
    "y_pred=clf.predict(X_test)\n",
    "\n",
    "print(\"Accuracy Score:\",accuracy_score(y_test,y_pred))\n",
    "print(\"Recall Score:\",recall_score(y_test,y_pred,labels=[1,0]))\n",
    "print(\"Precision Score:\",precision_score(y_test,y_pred,labels=[1,0]))\n",
    "\n",
    "mat = confusion_matrix(y_test, y_pred)\n",
    "s1=sns.heatmap(mat.T, square=True, annot=True, fmt='d', cbar=False,\n",
    "          xticklabels=['No','Yes'],\n",
    "          yticklabels=['No','Yes'] )\n",
    "plt.xlabel('true label')\n",
    "plt.ylabel('predicted label')\n",
    "bottom, top = s1.get_ylim()\n",
    "s1.set_ylim(bottom + 0.5, top - 0.5)"
   ]
  },
  {
   "cell_type": "code",
   "execution_count": 23,
   "metadata": {},
   "outputs": [
    {
     "name": "stdout",
     "output_type": "stream",
     "text": [
      "Accuracy Score: 0.7261904761904762\n",
      "Recall Score: 0.7380952380952381\n",
      "Precision Score: 0.7209302325581395\n"
     ]
    },
    {
     "name": "stderr",
     "output_type": "stream",
     "text": [
      "C:\\Users\\ydi\\Anaconda3\\lib\\site-packages\\sklearn\\svm\\base.py:193: FutureWarning: The default value of gamma will change from 'auto' to 'scale' in version 0.22 to account better for unscaled features. Set gamma explicitly to 'auto' or 'scale' to avoid this warning.\n",
      "  \"avoid this warning.\", FutureWarning)\n"
     ]
    },
    {
     "data": {
      "text/plain": [
       "(2.0, 0.0)"
      ]
     },
     "execution_count": 23,
     "metadata": {},
     "output_type": "execute_result"
    },
    {
     "data": {
      "image/png": "[encoded data removed]",
      "text/plain": [
       "<Figure size 432x288 with 1 Axes>"
      ]
     },
     "metadata": {
      "needs_background": "light"
     },
     "output_type": "display_data"
    }
   ],
   "source": [
    "#creating new artificial balanced dataset\n",
    "df19balanced=pd.concat([df1_over, df0], ignore_index=True)\n",
    "#resample data\n",
    "features=['danceability','energy','key','loudness','mode' ,'speechiness','acousticness','instrumentalness','liveness','valence','tempo']            \n",
    "X=df19balanced[features]\n",
    "y=df19balanced['top']\n",
    "X_train, X_test, y_train, y_test = train_test_split(X, y,stratify=y, test_size=0.2)\n",
    "#retry svc\n",
    "clf = svm.SVC()\n",
    "clf.fit(X_train, y_train)  \n",
    "\n",
    "y_pred=clf.predict(X_test)\n",
    "\n",
    "print(\"Accuracy Score:\",accuracy_score(y_test,y_pred))\n",
    "print(\"Recall Score:\",recall_score(y_test,y_pred,labels=[1,0]))\n",
    "print(\"Precision Score:\",precision_score(y_test,y_pred,labels=[1,0]))\n",
    "\n",
    "mat = confusion_matrix(y_test, y_pred)\n",
    "s1=sns.heatmap(mat.T, square=True, annot=True, fmt='d', cbar=False,\n",
    "          xticklabels=['No','Yes'],\n",
    "          yticklabels=['No','Yes'] )\n",
    "plt.xlabel('true label')\n",
    "plt.ylabel('predicted label')\n",
    "bottom, top = s1.get_ylim()\n",
    "s1.set_ylim(bottom + 0.5, top - 0.5)"
   ]
  },
  {
   "cell_type": "markdown",
   "metadata": {},
   "source": [
    "Looking at features alone seems not to be adequate predict if a given song will reach the top 20 at some point. This sugges"
   ]
  },
  {
   "cell_type": "code",
   "execution_count": null,
   "metadata": {},
   "outputs": [],
   "source": []
  }
 ],
 "metadata": {
  "kernelspec": {
   "display_name": "Python 3",
   "language": "python",
   "name": "python3"
  },
  "language_info": {
   "codemirror_mode": {
    "name": "ipython",
    "version": 3
   },
   "file_extension": ".py",
   "mimetype": "text/x-python",
   "name": "python",
   "nbconvert_exporter": "python",
   "pygments_lexer": "ipython3",
   "version": "3.7.3"
  }
 },
 "nbformat": 4,
 "nbformat_minor": 4
}
