{
 "cells": [
  {
   "cell_type": "markdown",
   "metadata": {},
   "source": [
    "# <center> What makes a song a hit? \n",
    "    \n",
    "### <center> Data Science in Practice\n",
    "   Authors:\n",
    "    \n",
    "  "
   ]
  },
  {
   "cell_type": "code",
   "execution_count": 2,
   "metadata": {},
   "outputs": [],
   "source": [
    "import requests\n",
    "import pandas as pd\n",
    "import matplotlib.pyplot as plt\n",
    "import numpy as np\n",
    "import seaborn as sns\n",
    "import json\n",
    "pd.set_option('display.max_columns', None)"
   ]
  },
  {
   "cell_type": "markdown",
   "metadata": {},
   "source": [
    "## Introduction\n",
    "This is the jupyter notebook containing code used to complete the Data Science in Practice project. "
   ]
  },
  {
   "cell_type": "markdown",
   "metadata": {},
   "source": [
    "## Exploratory Data Analysis"
   ]
  },
  {
   "cell_type": "markdown",
   "metadata": {},
   "source": [
    "### Initial Overview\n",
    "Before looking for trends and patterns in time and amongst different categories we will first explore what the data looks like"
   ]
  },
  {
   "cell_type": "code",
   "execution_count": 3,
   "metadata": {},
   "outputs": [],
   "source": [
    "#Importing the finished datasets\n",
    "df18= pd.read_csv('2018weekconcat.csv')\n",
    "df19= pd.read_csv('2019weekconcat.csv')\n",
    "df19_merge = df19.copy()\n",
    "df19_merge.week = df19_merge.week + df18.week.max()\n",
    "dfall=pd.concat([df18, df19_merge], ignore_index=True)"
   ]
  },
  {
   "cell_type": "code",
   "execution_count": 4,
   "metadata": {},
   "outputs": [
    {
     "data": {
      "text/plain": [
       "Position              int64\n",
       "Track Name           object\n",
       "Artist               object\n",
       "Streams               int64\n",
       "URL                  object\n",
       "danceability        float64\n",
       "energy              float64\n",
       "key                   int64\n",
       "loudness            float64\n",
       "mode                  int64\n",
       "speechiness         float64\n",
       "acousticness        float64\n",
       "instrumentalness    float64\n",
       "liveness            float64\n",
       "valence             float64\n",
       "tempo               float64\n",
       "type                 object\n",
       "id                   object\n",
       "uri                  object\n",
       "track_href           object\n",
       "analysis_url         object\n",
       "duration_ms           int64\n",
       "time_signature        int64\n",
       "week                  int64\n",
       "year                  int64\n",
       "dtype: object"
      ]
     },
     "execution_count": 4,
     "metadata": {},
     "output_type": "execute_result"
    }
   ],
   "source": [
    "dfall.dtypes"
   ]
  },
  {
   "cell_type": "code",
   "execution_count": 5,
   "metadata": {},
   "outputs": [],
   "source": [
    "df18['top'] = np.where(df18['Position']<df18.Position.quantile(0.2), 1, 0)\n",
    "df19['top'] = np.where(df19['Position']<df19.Position.quantile(0.2), 1, 0)\n",
    "dfall['top'] = np.where(dfall['Position']<dfall.Position.quantile(0.2), 1, 0)\n"
   ]
  },
  {
   "cell_type": "markdown",
   "metadata": {},
   "source": [
    "## Exploring possible time patterns"
   ]
  },
  {
   "cell_type": "markdown",
   "metadata": {},
   "source": [
    "## Feature Engineering\n",
    "### Step 1 Feature Selection"
   ]
  },
  {
   "cell_type": "code",
   "execution_count": 6,
   "metadata": {},
   "outputs": [],
   "source": [
    "dfall_fe = dfall.copy()\n",
    "dfall_fe = dfall_fe.drop(columns = ['URL', 'uri','track_href','analysis_url','type','Track Name'])"
   ]
  },
  {
   "cell_type": "code",
   "execution_count": 7,
   "metadata": {},
   "outputs": [],
   "source": [
    "dfall_fe_id_values = dfall_fe.id.unique().tolist()\n",
    "cdff = ['counts','index_prev','week_prev','pos_prev','stream_prev']\n",
    "vdff = np.empty((len(dfall_fe_id_values),len(cdff)))\n",
    "vdff[:] = np.nan\n",
    "dfFeature = pd.DataFrame(vdff, \n",
    "                         index =dfall_fe_id_values, columns = cdff)"
   ]
  },
  {
   "cell_type": "code",
   "execution_count": 8,
   "metadata": {},
   "outputs": [],
   "source": [
    "dfall_fe['hist'] = [0]*len(dfall_fe.index)\n",
    "dfall_fe['new'] = [0]*len(dfall_fe.index)"
   ]
  },
  {
   "cell_type": "code",
   "execution_count": 9,
   "metadata": {},
   "outputs": [],
   "source": [
    "# Sophie could check\n",
    "for i in range(dfall_fe.shape[0]):\n",
    "    if np.isnan(dfFeature.at[dfall_fe.id[i],'counts']):\n",
    "        dfall_fe.at[i,'new'] = 1\n",
    "        dfall_fe.at[i,'hist'] = 1\n",
    "        dfFeature.at[dfall_fe.id[i],'counts'] = 1\n",
    "        dfFeature.at[dfall_fe.id[i],'stream_prev'] = dfall_fe.at[i,'Streams']\n",
    "        dfFeature.at[dfall_fe.id[i],'stream_log1'] = dfall_fe.at[i,'Streams']\n",
    "        dfFeature.at[dfall_fe.id[i],'stream_log2'] = dfall_fe.at[i,'Streams']\n",
    "        dfFeature.at[dfall_fe.id[i],'stream_log3'] = dfall_fe.at[i,'Streams']\n",
    "        dfFeature.at[dfall_fe.id[i],'stream_log4'] = dfall_fe.at[i,'Streams']\n",
    "        dfall_fe.at[i,'week_prev'] = 0\n",
    "        dfall_fe.at[i,'stream_prev'] = 0\n",
    "        dfall_fe.at[i,'pos_prev'] = 200\n",
    "        \n",
    "    else:\n",
    "        dfFeature.at[dfall_fe.id[i],'counts'] += 1\n",
    "        dfall_fe.at[i,'week_prev'] = dfFeature.at[dfall_fe.id[i],'week_prev']\n",
    "        dfall_fe.at[i,'stream_prev'] = dfFeature.at[dfall_fe.id[i],'stream_prev']\n",
    "        dfall_fe.at[i,'stream_prev'] = dfFeature.at[dfall_fe.id[i],'stream_prev']\n",
    "        dfall_fe.at[i,'pos_prev'] = dfFeature.at[dfall_fe.id[i],'pos_prev']\n",
    "        dfall_fe.at[i,'hist'] = dfFeature.at[dfall_fe.id[i],'counts']\n",
    "    dfFeature.at[dfall_fe.id[i],'index_prev'] = i\n",
    "    dfFeature.at[dfall_fe.id[i],'week_prev'] = dfall_fe.at[i,'week']\n",
    "    dfFeature.at[dfall_fe.id[i],'stream_log4'] = dfFeature.at[dfall_fe.id[i],'stream_log3']\n",
    "    dfFeature.at[dfall_fe.id[i],'stream_log3'] = dfFeature.at[dfall_fe.id[i],'stream_log2']\n",
    "    dfFeature.at[dfall_fe.id[i],'stream_log2'] = dfFeature.at[dfall_fe.id[i],'stream_log1']\n",
    "    dfFeature.at[dfall_fe.id[i],'stream_log1'] = dfFeature.at[dfall_fe.id[i],'stream_prev']\n",
    "    dfFeature.at[dfall_fe.id[i],'stream_prev'] = dfall_fe.at[i,'Streams']\n",
    "    dfFeature.at[dfall_fe.id[i],'pos_prev'] = dfall_fe.at[i,'Position']\n",
    "    dfall_fe.at[i,'stream_avg'] = 1/5*(dfall_fe.at[i,'Streams'] + dfFeature.at[dfall_fe.id[i],'stream_prev']\n",
    "                                      + dfFeature.at[dfall_fe.id[i],'stream_log1']+ dfFeature.at[dfall_fe.id[i],'stream_log2']\n",
    "                                      + dfFeature.at[dfall_fe.id[i],'stream_log3']+ dfFeature.at[dfall_fe.id[i],'stream_log4'])\n",
    "    "
   ]
  },
  {
   "cell_type": "code",
   "execution_count": 10,
   "metadata": {},
   "outputs": [
    {
     "data": {
      "text/plain": [
       "\"\\nfor i in range(100):\\n    if np.isnan(dfFeature[dfFeature.id == dfall_fe.id[i]].iat[0,0]):\\n        c = 1\\n        dfall_fe.at[i,'new'] = 1\\n    #    dfall_fe.at['hist',i] = 1\\n    #    dfFeature[dfFeature.id == dfall_fe.id[i]].iat[0,0]\\n    #else:\\n    #    dfall_fe.at['hist',i] += 1\\n    #dfFeature[dfFeature.id == dfall_fe.id[i]].iat[0,1] = i\\n    \""
      ]
     },
     "execution_count": 10,
     "metadata": {},
     "output_type": "execute_result"
    }
   ],
   "source": [
    "'''\n",
    "for i in range(100):\n",
    "    if np.isnan(dfFeature[dfFeature.id == dfall_fe.id[i]].iat[0,0]):\n",
    "        c = 1\n",
    "        dfall_fe.at[i,'new'] = 1\n",
    "    #    dfall_fe.at['hist',i] = 1\n",
    "    #    dfFeature[dfFeature.id == dfall_fe.id[i]].iat[0,0]\n",
    "    #else:\n",
    "    #    dfall_fe.at['hist',i] += 1\n",
    "    #dfFeature[dfFeature.id == dfall_fe.id[i]].iat[0,1] = i\n",
    "    '''"
   ]
  },
  {
   "cell_type": "markdown",
   "metadata": {},
   "source": [
    "### Step 2 Feature Augmentation"
   ]
  },
  {
   "cell_type": "code",
   "execution_count": 24,
   "metadata": {},
   "outputs": [],
   "source": [
    "features=['danceability','energy','key','loudness','mode' ,'speechiness','acousticness','instrumentalness','liveness','valence','tempo','new','week','week_prev','pos_prev','stream_prev','duration_ms']    \n",
    "X_orig = dfall_fe[features]\n",
    "from sklearn.preprocessing import StandardScaler\n",
    "x = X_orig.values #returns a numpy array\n",
    "std_scaler = StandardScaler()\n",
    "x_scaled = std_scaler.fit_transform(x)\n",
    "\n",
    "X_scaled = pd.DataFrame(x_scaled, columns = features) "
   ]
  },
  {
   "cell_type": "code",
   "execution_count": 25,
   "metadata": {},
   "outputs": [
    {
     "data": {
      "text/plain": [
       "['danceability',\n",
       " 'energy',\n",
       " 'key',\n",
       " 'loudness',\n",
       " 'mode',\n",
       " 'speechiness',\n",
       " 'acousticness',\n",
       " 'instrumentalness',\n",
       " 'liveness',\n",
       " 'valence',\n",
       " 'tempo',\n",
       " 'new',\n",
       " 'week',\n",
       " 'week_prev',\n",
       " 'pos_prev',\n",
       " 'stream_prev',\n",
       " 'duration_ms']"
      ]
     },
     "execution_count": 25,
     "metadata": {},
     "output_type": "execute_result"
    }
   ],
   "source": [
    "features"
   ]
  },
  {
   "cell_type": "code",
   "execution_count": 26,
   "metadata": {},
   "outputs": [],
   "source": [
    "def generate_polynormial_features_set(X_scaled, k ):\n",
    "    x_scaled = X_scaled.to_numpy()\n",
    "    features = X_scaled.columns.tolist()\n",
    "    for order in range(2,k+1):\n",
    "        features_tmp = features\n",
    "        for i in range(len(features)):\n",
    "            features_tmp[i]= features[i]+'_'+str(order)\n",
    "            x_tmp = x_scaled**order\n",
    "        X_tmp = pd.DataFrame(x_tmp, columns = features_tmp) \n",
    "        if order == 2:\n",
    "            X_poly = X_tmp\n",
    "        else:\n",
    "            X_poly = pd.concat([X_poly, X_tmp], axis=1).reindex(X_poly.index)\n",
    "    return X_poly"
   ]
  },
  {
   "cell_type": "code",
   "execution_count": 27,
   "metadata": {},
   "outputs": [],
   "source": [
    "X_poly = generate_polynormial_features_set(X_scaled, 4)"
   ]
  },
  {
   "cell_type": "code",
   "execution_count": 28,
   "metadata": {},
   "outputs": [],
   "source": [
    "features_sqrt = features\n",
    "for i in range(len(features)):\n",
    "    features_sqrt[i]= features[i]+'_sqrt'\n",
    "\n",
    "x_sqrt = np.sqrt(np.abs(x_scaled))\n",
    "X_sqrt = pd.DataFrame(x_sqrt, columns = features_sqrt) "
   ]
  },
  {
   "cell_type": "code",
   "execution_count": 29,
   "metadata": {},
   "outputs": [],
   "source": [
    "features_sin = features\n",
    "for i in range(len(features)):\n",
    "    features_sin[i]= features[i]+'_sin'\n",
    "\n",
    "x_sin = np.sin(x_scaled)\n",
    "X_sin = pd.DataFrame(x_sin, columns = features_sin) "
   ]
  },
  {
   "cell_type": "code",
   "execution_count": 30,
   "metadata": {},
   "outputs": [],
   "source": [
    "features_cos = features\n",
    "for i in range(len(features)):\n",
    "    features_cos[i]= features[i]+'_cos'\n",
    "\n",
    "x_cos = np.cos(x_scaled)\n",
    "X_cos = pd.DataFrame(x_cos, columns = features_cos) "
   ]
  },
  {
   "cell_type": "markdown",
   "metadata": {},
   "source": [
    "# Modelling Regression"
   ]
  },
  {
   "cell_type": "code",
   "execution_count": 64,
   "metadata": {},
   "outputs": [],
   "source": [
    "from sklearn.model_selection import train_test_split\n",
    "from sklearn.linear_model import LinearRegression, RidgeCV\n",
    "from sklearn import svm\n",
    "from sklearn.ensemble import RandomForestClassifier\n",
    "from sklearn.metrics import confusion_matrix , classification_report, mean_squared_error, r2_score\n",
    "from sklearn.metrics import roc_curve, precision_recall_curve, auc, make_scorer, recall_score, accuracy_score, precision_score, confusion_matrix,average_precision_score"
   ]
  },
  {
   "cell_type": "markdown",
   "metadata": {},
   "source": [
    "## Regression based on Streams"
   ]
  },
  {
   "cell_type": "markdown",
   "metadata": {},
   "source": [
    "Based on the current business model of Spotify, streaming number is the decisive factor for the singer's profit. We could therefore predict the future number of streams as the estimative indicator for the singer's profit from spotify. \n",
    "\n",
    "The problem could be defined as a regression problem with continious output variable rather than binary-classfication. Therefore, We need to choose different models with different feature set for this problem. The coefficient of determination is chosen as the measure on the performance of our regressor. "
   ]
  },
  {
   "cell_type": "markdown",
   "metadata": {},
   "source": [
    "## Feature engineering regression problems"
   ]
  },
  {
   "cell_type": "markdown",
   "metadata": {},
   "source": []
  },
  {
   "cell_type": "markdown",
   "metadata": {},
   "source": [
    "### Linear Regression"
   ]
  },
  {
   "cell_type": "code",
   "execution_count": 65,
   "metadata": {},
   "outputs": [
    {
     "name": "stdout",
     "output_type": "stream",
     "text": [
      "Coefficients: \n",
      " [ 4.48258270e+04 -7.08489351e+04 -8.33593504e+03  3.02753903e+04\n",
      " -6.97697564e+03 -2.78033578e+04 -1.11905228e+04  3.76281273e+03\n",
      "  1.15042939e+04 -3.03932010e+03 -5.09047953e+02  1.08969128e+06\n",
      " -2.68470009e+04  5.53897483e+04 -9.74545814e+04  1.74375184e+06\n",
      " -2.08165968e+04]\n",
      "Test Mean squared error: 1624025882432.18\n",
      "Train Mean squared error: 1637912832055.08\n",
      "Coefficient of determination: 0.63\n"
     ]
    }
   ],
   "source": [
    "X = X_scaled\n",
    "y = dfall['Streams']\n",
    "X_train, X_test, y_train, y_test = train_test_split(X, y, test_size=0.2)\n",
    "\n",
    "regr = RidgeCV(alphas=[1e-3, 1e-2, 1e-1, 1])\n",
    "\n",
    "# Train the model using the training sets\n",
    "regr.fit(X_train, y_train)\n",
    "\n",
    "# Make predictions using the testing set\n",
    "y_pred = regr.predict(X_test)\n",
    "y_pred_train = regr.predict(X_train)\n",
    "\n",
    "# The coefficients\n",
    "print('Coefficients: \\n', regr.coef_)\n",
    "# The mean squared error\n",
    "print('Test Mean squared error: %.2f'\n",
    "      % mean_squared_error(y_test, y_pred))\n",
    "print('Train Mean squared error: %.2f'\n",
    "      % mean_squared_error(y_train, y_pred_train))\n",
    "# The coefficient of determination: 1 is perfect prediction\n",
    "print('Coefficient of determination: %.2f'\n",
    "      % r2_score(y_test, y_pred))\n"
   ]
  },
  {
   "cell_type": "markdown",
   "metadata": {},
   "source": [
    "### Polynormial Regression"
   ]
  },
  {
   "cell_type": "code",
   "execution_count": 66,
   "metadata": {},
   "outputs": [
    {
     "name": "stdout",
     "output_type": "stream",
     "text": [
      "Coefficients: \n",
      " [ 3.57387558e+04 -7.05321814e+04  7.22694469e+04  3.21968940e+04\n",
      "  2.57659912e+01 -1.29834188e+04  3.09494942e+04 -5.73547758e+04\n",
      " -3.48121321e+04 -5.41960366e+04  1.20207032e+04  2.12861792e+03\n",
      " -4.74083147e+05  9.79908739e+05 -7.41430504e+04  1.48431858e+06\n",
      " -9.59323461e+03 -2.47087225e+03 -1.41871489e+04 -1.47698599e+05\n",
      "  1.91165014e+04 -1.01823997e+01 -3.39729074e+04  3.29200641e+03\n",
      "  2.41114014e+04  4.23610741e+04 -4.82453232e+04 -1.42344535e+04\n",
      "  4.82583737e+03  1.04653798e+06 -1.24275821e+06 -2.54141628e+05\n",
      " -8.39486218e+04 -7.92186810e+03 -7.13541992e+03 -3.96726849e+03\n",
      " -4.70087253e+04 -1.91961035e+03  2.97897491e+01  1.60568280e+04\n",
      " -3.05612305e+04 -2.25875000e+03 -6.03628101e+03  1.82800033e+04\n",
      " -1.01013775e+04  1.30693823e+04  1.78086457e+05 -7.06102698e+05\n",
      " -9.13294762e+04  8.45706030e+03  4.28005371e+02 -2.31507373e+03\n",
      " -2.27126721e+03  4.74250677e+04 -6.68660156e+02 -2.19549484e+01\n",
      " -1.90813281e+03  6.54166406e+03  6.92500000e+01 -1.53169922e+02\n",
      "  9.46396527e+03  7.45281305e+03  3.44557273e+04 -4.17026051e+05\n",
      "  6.98989848e+05  2.30648168e+05  2.81410156e+02 -2.42734375e+01]\n",
      "Test Mean squared error: 1372449152802.35\n",
      "Train Mean squared error: 1640702982439.35\n",
      "Coefficient of determination: 0.65\n"
     ]
    }
   ],
   "source": [
    "X_poly = generate_polynormial_features_set(X_scaled, 4)\n",
    "X = pd.concat([X_scaled, X_poly], axis=1).reindex(X_scaled.index)\n",
    "y = dfall['Streams']\n",
    "X_train, X_test, y_train, y_test = train_test_split(X, y, test_size=0.2)\n",
    "\n",
    "regr = RidgeCV(alphas=[1e-3, 1e-2, 1e-1, 1])\n",
    "\n",
    "# Train the model using the training sets\n",
    "regr.fit(X_train, y_train)\n",
    "\n",
    "# Make predictions using the testing set\n",
    "y_pred = regr.predict(X_test)\n",
    "y_pred_train = regr.predict(X_train)\n",
    "\n",
    "# The coefficients\n",
    "print('Coefficients: \\n', regr.coef_)\n",
    "# The mean squared error\n",
    "print('Test Mean squared error: %.2f'\n",
    "      % mean_squared_error(y_test, y_pred))\n",
    "print('Train Mean squared error: %.2f'\n",
    "      % mean_squared_error(y_train, y_pred_train))\n",
    "# The coefficient of determination: 1 is perfect prediction\n",
    "print('Coefficient of determination: %.2f'\n",
    "      % r2_score(y_test, y_pred))"
   ]
  },
  {
   "cell_type": "markdown",
   "metadata": {},
   "source": [
    "### Regression on Full features"
   ]
  },
  {
   "cell_type": "code",
   "execution_count": 67,
   "metadata": {},
   "outputs": [
    {
     "name": "stdout",
     "output_type": "stream",
     "text": [
      "Coefficients: \n",
      " [ 1.97340796e+06  8.16513070e+05  2.40734265e+05  3.93371666e+05\n",
      "  1.83704865e+02  2.07560739e+05  6.04804222e+06 -7.23048481e+03\n",
      " -4.47213613e+05 -8.67869697e+05 -1.12736586e+06  3.74953450e+03\n",
      " -2.72652038e+07  3.88448508e+07  2.83289802e+07  2.63375767e+06\n",
      "  5.23351316e+04  5.44907988e+05  3.11671277e+05 -8.17482919e+06\n",
      " -8.94300308e+04 -7.25979614e+01 -5.54107012e+04 -3.15587904e+06\n",
      "  4.22960347e+04 -3.03904867e+05  3.10165238e+06  3.32689701e+06\n",
      "  8.50065497e+03 -2.96519474e+06 -2.04282064e+07 -5.60291149e+07\n",
      " -1.10789263e+06 -2.11529608e+03 -2.79011301e+05 -1.20539985e+05\n",
      " -7.56498376e+04 -7.17148962e+04  2.12394623e+02 -1.12223491e+04\n",
      " -9.09825059e+05 -4.18072852e+03  1.47156338e+05  1.38324176e+05\n",
      "  1.57222474e+05  2.30215535e+04  3.98875533e+06 -6.26264179e+06\n",
      " -4.27305665e+06  1.83240140e+05 -6.25904150e+03 -6.35507747e+04\n",
      " -3.10661603e+04  6.37372594e+05 -7.20333203e+03 -1.56533905e+02\n",
      "  2.03636523e+03  2.91100552e+05  1.06671875e+02 -1.40884971e+04\n",
      " -2.13315336e+05 -2.17173629e+05  6.06933503e+04 -1.28676866e+05\n",
      "  2.26595949e+06  4.42113461e+06 -8.44707812e+03  4.18529785e+02\n",
      " -3.08813835e+05 -1.37038660e+05 -2.80631246e+04 -1.13302024e+05\n",
      " -1.77198181e+01  5.88362877e+04  2.12621077e+05 -3.07732142e+05\n",
      "  9.44386329e+04  3.29587082e+04  1.30155374e+05  1.25456150e+03\n",
      " -5.37945970e+05 -7.58617784e+03  1.45307557e+05  6.19395379e+05\n",
      " -4.03409242e+04 -1.97461813e+06 -8.98325996e+05 -1.54924691e+05\n",
      " -3.33900077e+05  1.50517441e+02 -2.28428720e+05 -6.07088049e+06\n",
      "  5.99151242e+04  3.51061497e+05  8.17038131e+05  1.14444608e+06\n",
      "  1.04849130e+03  2.72410719e+07 -3.82959786e+07 -2.86444504e+07\n",
      " -9.79984028e+05 -6.36648485e+04  7.23648302e+05  5.20094502e+05\n",
      " -1.62675279e+07 -3.93915890e+05  3.01345406e+01  1.52400925e+04\n",
      " -5.94178874e+06 -1.03719453e+05 -6.16776049e+05  6.45731712e+06\n",
      "  6.99704042e+06 -2.24320741e+03 -8.60429551e+06 -3.81940255e+07\n",
      " -1.12214109e+08 -2.08520411e+05 -1.40881062e+04]\n",
      "Test Mean squared error: 1558658100516.42\n",
      "Train Mean squared error: 1566186031785.50\n",
      "Coefficient of determination: 0.63\n"
     ]
    }
   ],
   "source": [
    "X = pd.concat([X_scaled, X_poly, X_sqrt, X_sin, X_cos], axis=1).reindex(X_scaled.index)\n",
    "y = dfall['Streams']\n",
    "X_train, X_test, y_train, y_test = train_test_split(X, y, test_size=0.2)\n",
    "\n",
    "regr = RidgeCV(alphas=[1e-3, 1e-2, 1e-1, 1])\n",
    "\n",
    "# Train the model using the training sets\n",
    "regr.fit(X_train, y_train)\n",
    "\n",
    "# Make predictions using the testing set\n",
    "y_pred = regr.predict(X_test)\n",
    "y_pred_train = regr.predict(X_train)\n",
    "\n",
    "# The coefficients\n",
    "print('Coefficients: \\n', regr.coef_)\n",
    "# The mean squared error\n",
    "print('Test Mean squared error: %.2f'\n",
    "      % mean_squared_error(y_test, y_pred))\n",
    "print('Train Mean squared error: %.2f'\n",
    "      % mean_squared_error(y_train, y_pred_train))\n",
    "# The coefficient of determination: 1 is perfect prediction\n",
    "print('Coefficient of determination: %.2f'\n",
    "      % r2_score(y_test, y_pred))"
   ]
  },
  {
   "cell_type": "markdown",
   "metadata": {},
   "source": [
    "### Support Vector Regressor"
   ]
  },
  {
   "cell_type": "code",
   "execution_count": 72,
   "metadata": {},
   "outputs": [
    {
     "name": "stderr",
     "output_type": "stream",
     "text": [
      "C:\\Users\\ydi\\Anaconda3\\lib\\site-packages\\sklearn\\svm\\base.py:193: FutureWarning: The default value of gamma will change from 'auto' to 'scale' in version 0.22 to account better for unscaled features. Set gamma explicitly to 'auto' or 'scale' to avoid this warning.\n",
      "  \"avoid this warning.\", FutureWarning)\n"
     ]
    },
    {
     "name": "stdout",
     "output_type": "stream",
     "text": [
      "Test Mean squared error: 5405677940613.91\n",
      "Train Mean squared error: 4699251964268.54\n",
      "Coefficient of determination: -0.12\n"
     ]
    }
   ],
   "source": [
    "X_poly = generate_polynormial_features_set(X_scaled, 4)\n",
    "X = pd.concat([X_scaled, X_poly], axis=1).reindex(X_scaled.index)\n",
    "y = dfall['Streams']\n",
    "X_train, X_test, y_train, y_test = train_test_split(X, y, test_size=0.2)\n",
    "\n",
    "regr = svm.SVR()\n",
    "\n",
    "# Train the model using the training sets\n",
    "regr.fit(X_train, y_train)\n",
    "\n",
    "# Make predictions using the testing set\n",
    "y_pred = regr.predict(X_test)\n",
    "y_pred_train = regr.predict(X_train)\n",
    "\n",
    "# The mean squared error\n",
    "print('Test Mean squared error: %.2f'\n",
    "      % mean_squared_error(y_test, y_pred))\n",
    "print('Train Mean squared error: %.2f'\n",
    "      % mean_squared_error(y_train, y_pred_train))\n",
    "# The coefficient of determination: 1 is perfect prediction\n",
    "print('Coefficient of determination: %.2f'\n",
    "      % r2_score(y_test, y_pred))"
   ]
  },
  {
   "cell_type": "markdown",
   "metadata": {},
   "source": [
    "## Regression based on Positions"
   ]
  },
  {
   "cell_type": "markdown",
   "metadata": {},
   "source": [
    "## Linear Regression"
   ]
  },
  {
   "cell_type": "code",
   "execution_count": 68,
   "metadata": {},
   "outputs": [
    {
     "name": "stdout",
     "output_type": "stream",
     "text": [
      "Coefficients: \n",
      " [ -1.0208711    1.28936429   0.07636069  -0.34355745   0.31610761\n",
      "   0.78234812   0.07424081  -0.07704151   0.33221998   0.3657642\n",
      "  -0.45651364 -35.1678529    0.41585322  -1.50888751  54.00559094\n",
      "  -4.93921298   0.76279942]\n",
      "Test Mean squared error: 913.82\n",
      "Train Mean squared error: 967.37\n",
      "Coefficient of determination: 0.73\n"
     ]
    }
   ],
   "source": [
    "X = X_scaled\n",
    "y = dfall['Position']\n",
    "X_train, X_test, y_train, y_test = train_test_split(X, y, test_size=0.2)\n",
    "\n",
    "regr = RidgeCV(alphas=[1e-3, 1e-2, 1e-1, 1])\n",
    "\n",
    "# Train the model using the training sets\n",
    "regr.fit(X_train, y_train)\n",
    "\n",
    "# Make predictions using the testing set\n",
    "y_pred = regr.predict(X_test)\n",
    "y_pred_train = regr.predict(X_train)\n",
    "\n",
    "# The coefficients\n",
    "print('Coefficients: \\n', regr.coef_)\n",
    "# The mean squared error\n",
    "print('Test Mean squared error: %.2f'\n",
    "      % mean_squared_error(y_test, y_pred))\n",
    "print('Train Mean squared error: %.2f'\n",
    "      % mean_squared_error(y_train, y_pred_train))\n",
    "# The coefficient of determination: 1 is perfect prediction\n",
    "print('Coefficient of determination: %.2f'\n",
    "      % r2_score(y_test, y_pred))\n"
   ]
  },
  {
   "cell_type": "markdown",
   "metadata": {},
   "source": [
    "### Polynomial Regression"
   ]
  },
  {
   "cell_type": "code",
   "execution_count": 69,
   "metadata": {},
   "outputs": [
    {
     "name": "stdout",
     "output_type": "stream",
     "text": [
      "Coefficients: \n",
      " [-8.30245525e-01  9.29109127e-01 -3.17572998e-01  1.73118501e-01\n",
      "  4.74647847e-02 -5.36110492e-02 -2.23699894e-01  2.10328104e+00\n",
      "  7.51302058e-01  1.96339108e+00 -2.08783383e-01 -1.32784249e-01\n",
      "  1.21408238e+00 -1.25532790e+01  4.42325436e+01 -4.18677842e+01\n",
      "  5.12512319e-01 -1.35716139e-01  2.55558412e-01  4.24408094e+00\n",
      "  8.53697351e-03 -1.87575258e-02  5.80989544e-01  7.81018547e-01\n",
      " -9.60612641e-01  2.15558873e-01  9.00760762e-01  8.97923682e-01\n",
      " -3.01038153e-01 -1.93276265e+01  2.22863871e+01  8.67026856e+00\n",
      "  1.66226682e+01  9.19679371e-02  1.54259218e-01  3.43788098e-02\n",
      "  3.33161074e-01 -7.90061842e-02  5.48775387e-02 -7.19039823e-02\n",
      "  4.82549802e-01  1.10132774e-01 -9.33387144e-02 -7.12475416e-01\n",
      "  1.32258839e-02 -8.15274604e-01  7.39516539e-01  8.78882307e+00\n",
      " -5.61701199e+00 -2.50278334e+00  3.47518829e-03  8.09412058e-02\n",
      "  2.84729116e-02 -1.64136264e+00 -1.13357457e-02 -4.04444849e-02\n",
      "  1.89594878e-03 -2.78042143e-01 -3.50977294e-03  9.47318889e-03\n",
      " -4.17690950e-02 -1.78782749e-01 -2.14936551e+00  6.80912567e+00\n",
      " -1.12450700e+01 -4.86138520e+00  1.21215935e-01  5.21859212e-04]\n",
      "Test Mean squared error: 967.65\n",
      "Train Mean squared error: 918.13\n",
      "Coefficient of determination: 0.71\n"
     ]
    }
   ],
   "source": [
    "X_poly = generate_polynormial_features_set(X_scaled, 4)\n",
    "X = pd.concat([X_scaled, X_poly], axis=1).reindex(X_scaled.index)\n",
    "y = dfall['Position']\n",
    "X_train, X_test, y_train, y_test = train_test_split(X, y, test_size=0.2)\n",
    "\n",
    "regr = RidgeCV(alphas=[1e-3, 1e-2, 1e-1, 1])\n",
    "\n",
    "# Train the model using the training sets\n",
    "regr.fit(X_train, y_train)\n",
    "\n",
    "# Make predictions using the testing set\n",
    "y_pred = regr.predict(X_test)\n",
    "y_pred_train = regr.predict(X_train)\n",
    "\n",
    "# The coefficients\n",
    "print('Coefficients: \\n', regr.coef_)\n",
    "# The mean squared error\n",
    "print('Test Mean squared error: %.2f'\n",
    "      % mean_squared_error(y_test, y_pred))\n",
    "print('Train Mean squared error: %.2f'\n",
    "      % mean_squared_error(y_train, y_pred_train))\n",
    "# The coefficient of determination: 1 is perfect prediction\n",
    "print('Coefficient of determination: %.2f'\n",
    "      % r2_score(y_test, y_pred))"
   ]
  },
  {
   "cell_type": "markdown",
   "metadata": {},
   "source": [
    "### Full features"
   ]
  },
  {
   "cell_type": "code",
   "execution_count": 70,
   "metadata": {},
   "outputs": [
    {
     "name": "stdout",
     "output_type": "stream",
     "text": [
      "Coefficients: \n",
      " [-7.30796189e+00 -1.67596934e+01  3.71838189e+00  6.37849529e-01\n",
      "  3.07444298e-02 -1.02873776e+01  7.56626895e+00  4.29037026e+00\n",
      "  1.42285431e+01  2.63095313e+00  6.76725229e+00 -1.81614106e-01\n",
      " -3.39732545e-01 -6.30237462e+00  1.24649122e+01 -7.94652901e+01\n",
      " -1.47622268e+00 -8.49376708e+00  2.86657782e+00  4.74541002e+00\n",
      "  5.57504330e-02 -1.21498378e-02  7.33729535e+00  1.00803981e+01\n",
      " -1.41919368e+00  2.83104058e+00  3.07222544e+00 -5.79341904e-01\n",
      " -4.11741417e-01 -8.04178942e+00  1.12377317e+01  9.65661521e+00\n",
      "  3.08653332e+01  6.00060498e-01  8.50982006e-01  2.46363533e+00\n",
      " -1.80872828e-01 -9.63161152e-02  3.55459030e-02 -5.27195352e-01\n",
      " -2.23388729e+00  1.40796253e-01 -2.92350709e+00 -9.05303969e-01\n",
      " -1.13627983e+00 -1.11508232e+00  1.47823827e+00  6.09713473e+00\n",
      "  9.99726004e-01 -4.22480091e+00  4.40490665e-02  5.75329116e-01\n",
      "  1.14387416e-01 -1.96570946e+00 -1.61929929e-02 -2.61971614e-02\n",
      " -4.02466228e-02 -2.42831460e-01 -3.98102961e-03  3.48774470e-01\n",
      " -2.29078200e-01 -2.01385781e-02 -2.93976957e+00  4.93818585e+00\n",
      " -7.95038433e+00 -7.04484704e+00  1.84560985e-01 -4.39393969e-03\n",
      " -3.29138006e-01  2.26264683e+00 -1.65406514e+00 -7.16020076e-01\n",
      " -2.96554465e-03 -5.00540885e+00 -2.41965486e+00 -2.91189890e+00\n",
      " -3.17724565e-01  1.47185416e+00  6.25015948e-01 -6.07664920e-02\n",
      " -3.03615341e+00  5.84745937e+00 -1.91554322e+00  1.12155230e+01\n",
      " -6.90217235e-03  6.62782029e+00  1.92877660e+01 -4.17492404e+00\n",
      " -1.71897634e+00  2.51902656e-02  1.15888042e+01 -7.66064605e+00\n",
      "  1.07568005e+00 -1.25596741e+01 -5.21687254e-01 -6.67343402e+00\n",
      " -5.07851932e-02  7.14375711e-02 -1.53250100e+00  1.80496605e+01\n",
      "  1.83078170e+01  3.23125245e+00 -1.84643482e+01  9.12118813e+00\n",
      " -2.65444638e+00 -9.49643899e-01  5.04325548e-03  4.94856925e+00\n",
      "  1.62891578e+01  1.09032925e+00  6.73727443e+00  4.56812812e+00\n",
      " -1.92415104e+00  1.08652994e-01  1.08820222e+01 -1.62524691e+00\n",
      " -3.16185239e+00 -1.16659247e+01  8.73592170e-01]\n",
      "Test Mean squared error: 945.76\n",
      "Train Mean squared error: 915.30\n",
      "Coefficient of determination: 0.71\n"
     ]
    }
   ],
   "source": [
    "X = pd.concat([X_scaled, X_poly, X_sqrt, X_sin, X_cos], axis=1).reindex(X_scaled.index)\n",
    "y = dfall['Position']\n",
    "X_train, X_test, y_train, y_test = train_test_split(X, y, test_size=0.2)\n",
    "\n",
    "regr = RidgeCV(alphas=[1e-3, 1e-2, 1e-1, 1])\n",
    "\n",
    "# Train the model using the training sets\n",
    "regr.fit(X_train, y_train)\n",
    "\n",
    "# Make predictions using the testing set\n",
    "y_pred = regr.predict(X_test)\n",
    "y_pred_train = regr.predict(X_train)\n",
    "\n",
    "# The coefficients\n",
    "print('Coefficients: \\n', regr.coef_)\n",
    "# The mean squared error\n",
    "print('Test Mean squared error: %.2f'\n",
    "      % mean_squared_error(y_test, y_pred))\n",
    "print('Train Mean squared error: %.2f'\n",
    "      % mean_squared_error(y_train, y_pred_train))\n",
    "# The coefficient of determination: 1 is perfect prediction\n",
    "print('Coefficient of determination: %.2f'\n",
    "      % r2_score(y_test, y_pred))"
   ]
  },
  {
   "cell_type": "code",
   "execution_count": 92,
   "metadata": {},
   "outputs": [
    {
     "name": "stdout",
     "output_type": "stream",
     "text": [
      "Accuracy Score: 0.8206730769230769\n",
      "Recall Score: 0.15614236509758897\n",
      "Precision Score: 0.9251700680272109\n"
     ]
    },
    {
     "data": {
      "image/png": "[encoded data removed]",
      "text/plain": [
       "<Figure size 432x288 with 1 Axes>"
      ]
     },
     "metadata": {
      "needs_background": "light"
     },
     "output_type": "display_data"
    }
   ],
   "source": [
    "y_test_clf = pd.DataFrame(y_test)\n",
    "y_test_clf['top'] = np.where(y_test_clf['Position']<dfall.Position.quantile(0.2), 1, 0)\n",
    "y_pred_clf = pd.DataFrame(data = y_pred, columns = ['Position'])\n",
    "y_pred_clf['top'] = np.where(y_pred_clf['Position']<dfall.Position.quantile(0.2), 1, 0)\n",
    "\n",
    "mat = confusion_matrix(y_test_clf['top'], y_pred_clf['top'])\n",
    "s1=sns.heatmap(mat.T, square=True, annot=True, fmt='d', cbar=False,\n",
    "          xticklabels=['No','Yes'],\n",
    "          yticklabels=['No','Yes'] )\n",
    "plt.xlabel('true label')\n",
    "plt.ylabel('predicted label')\n",
    "bottom, top = s1.get_ylim()\n",
    "s1.set_ylim(bottom + 0.5, top - 0.5)\n",
    "\n",
    "print(\"Accuracy Score:\",accuracy_score(y_test_clf['top'],y_pred_clf['top']))\n",
    "print(\"Recall Score:\",recall_score(y_test_clf['top'],y_pred_clf['top'],labels=[1,0]))\n",
    "print(\"Precision Score:\",precision_score(y_test_clf['top'],y_pred_clf['top'],labels=[1,0]))"
   ]
  },
  {
   "cell_type": "code",
   "execution_count": 73,
   "metadata": {},
   "outputs": [
    {
     "name": "stderr",
     "output_type": "stream",
     "text": [
      "C:\\Users\\ydi\\Anaconda3\\lib\\site-packages\\sklearn\\svm\\base.py:193: FutureWarning: The default value of gamma will change from 'auto' to 'scale' in version 0.22 to account better for unscaled features. Set gamma explicitly to 'auto' or 'scale' to avoid this warning.\n",
      "  \"avoid this warning.\", FutureWarning)\n"
     ]
    },
    {
     "name": "stdout",
     "output_type": "stream",
     "text": [
      "Test Mean squared error: 2062.99\n",
      "Train Mean squared error: 2019.98\n",
      "Coefficient of determination: 0.39\n"
     ]
    }
   ],
   "source": [
    "X_poly = generate_polynormial_features_set(X_scaled, 4)\n",
    "X = pd.concat([X_scaled, X_poly], axis=1).reindex(X_scaled.index)\n",
    "y = dfall['Position']\n",
    "X_train, X_test, y_train, y_test = train_test_split(X, y, test_size=0.2)\n",
    "\n",
    "regr = svm.SVR()\n",
    "\n",
    "# Train the model using the training sets\n",
    "regr.fit(X_train, y_train)\n",
    "\n",
    "# Make predictions using the testing set\n",
    "y_pred = regr.predict(X_test)\n",
    "y_pred_train = regr.predict(X_train)\n",
    "\n",
    "# The mean squared error\n",
    "print('Test Mean squared error: %.2f'\n",
    "      % mean_squared_error(y_test, y_pred))\n",
    "print('Train Mean squared error: %.2f'\n",
    "      % mean_squared_error(y_train, y_pred_train))\n",
    "# The coefficient of determination: 1 is perfect prediction\n",
    "print('Coefficient of determination: %.2f'\n",
    "      % r2_score(y_test, y_pred))"
   ]
  },
  {
   "cell_type": "markdown",
   "metadata": {},
   "source": [
    "### Random forest"
   ]
  },
  {
   "cell_type": "code",
   "execution_count": 11,
   "metadata": {},
   "outputs": [
    {
     "data": {
      "image/png": "[encoded data removed]",
      "text/plain": [
       "<Figure size 720x360 with 1 Axes>"
      ]
     },
     "metadata": {
      "needs_background": "light"
     },
     "output_type": "display_data"
    }
   ],
   "source": [
    "plt.figure(figsize=(10, 5))\n",
    "ax = sns.countplot(data=df19, x='top',palette=\"Pastel2\")\n",
    "ax.set(xlabel='top or not', ylabel='Num of songs')\n",
    "plt.title(\"Top Characterization\")\n",
    "plt.show()"
   ]
  },
  {
   "cell_type": "code",
   "execution_count": 12,
   "metadata": {},
   "outputs": [
    {
     "name": "stdout",
     "output_type": "stream",
     "text": [
      "Accuracy Score: 0.8302884615384616\n",
      "Recall Score: 0.35336538461538464\n",
      "Precision Score: 0.6363636363636364\n"
     ]
    },
    {
     "name": "stderr",
     "output_type": "stream",
     "text": [
      "C:\\Users\\ydi\\Anaconda3\\lib\\site-packages\\sklearn\\ensemble\\forest.py:245: FutureWarning: The default value of n_estimators will change from 10 in version 0.20 to 100 in 0.22.\n",
      "  \"10 in version 0.20 to 100 in 0.22.\", FutureWarning)\n"
     ]
    },
    {
     "data": {
      "image/png": "[encoded data removed]",
      "text/plain": [
       "<Figure size 432x288 with 1 Axes>"
      ]
     },
     "metadata": {
      "needs_background": "light"
     },
     "output_type": "display_data"
    }
   ],
   "source": [
    "features=['danceability','energy','key','loudness','mode' ,'speechiness','acousticness','instrumentalness','liveness','valence','tempo']            \n",
    "X=dfall[features]\n",
    "y=dfall['top']\n",
    "X_train, X_test, y_train, y_test = train_test_split(X, y,stratify=y, test_size=0.2)\n",
    "\n",
    "clf= RandomForestClassifier()\n",
    "clf.fit(X_train,y_train)\n",
    "y_pred= clf.predict(X_test)\n",
    "mat = confusion_matrix(y_test, y_pred)\n",
    "s1=sns.heatmap(mat.T, square=True, annot=True, fmt='d', cbar=False,\n",
    "          xticklabels=['No','Yes'],\n",
    "          yticklabels=['No','Yes'] )\n",
    "plt.xlabel('true label')\n",
    "plt.ylabel('predicted label')\n",
    "bottom, top = s1.get_ylim()\n",
    "s1.set_ylim(bottom + 0.5, top - 0.5)\n",
    "\n",
    "print(\"Accuracy Score:\",accuracy_score(y_test,y_pred))\n",
    "print(\"Recall Score:\",recall_score(y_test,y_pred,labels=[1,0]))\n",
    "print(\"Precision Score:\",precision_score(y_test,y_pred,labels=[1,0]))"
   ]
  },
  {
   "cell_type": "code",
   "execution_count": 13,
   "metadata": {},
   "outputs": [
    {
     "name": "stderr",
     "output_type": "stream",
     "text": [
      "C:\\Users\\ydi\\Anaconda3\\lib\\site-packages\\sklearn\\svm\\base.py:193: FutureWarning: The default value of gamma will change from 'auto' to 'scale' in version 0.22 to account better for unscaled features. Set gamma explicitly to 'auto' or 'scale' to avoid this warning.\n",
      "  \"avoid this warning.\", FutureWarning)\n"
     ]
    },
    {
     "name": "stdout",
     "output_type": "stream",
     "text": [
      "Accuracy Score: 0.8170673076923077\n",
      "Recall Score: 0.15985576923076922\n",
      "Precision Score: 0.6820512820512821\n"
     ]
    },
    {
     "data": {
      "text/plain": [
       "(2.0, 0.0)"
      ]
     },
     "execution_count": 13,
     "metadata": {},
     "output_type": "execute_result"
    },
    {
     "data": {
      "image/png": "[encoded data removed]",
      "text/plain": [
       "<Figure size 432x288 with 1 Axes>"
      ]
     },
     "metadata": {
      "needs_background": "light"
     },
     "output_type": "display_data"
    }
   ],
   "source": [
    "features=['danceability','energy','key','loudness','mode' ,'speechiness','acousticness','instrumentalness','liveness','valence','tempo']            \n",
    "X=dfall[features]\n",
    "y=dfall['top']\n",
    "X_train, X_test, y_train, y_test = train_test_split(X, y,stratify=y, test_size=0.2)\n",
    "\n",
    "clf = svm.SVC()\n",
    "clf.fit(X_train, y_train)  \n",
    "\n",
    "y_pred=clf.predict(X_test)\n",
    "\n",
    "print(\"Accuracy Score:\",accuracy_score(y_test,y_pred))\n",
    "print(\"Recall Score:\",recall_score(y_test,y_pred,labels=[1,0]))\n",
    "print(\"Precision Score:\",precision_score(y_test,y_pred,labels=[1,0]))\n",
    "\n",
    "mat = confusion_matrix(y_test, y_pred)\n",
    "s1=sns.heatmap(mat.T, square=True, annot=True, fmt='d', cbar=False,\n",
    "          xticklabels=['No','Yes'],\n",
    "          yticklabels=['No','Yes'] )\n",
    "plt.xlabel('true label')\n",
    "plt.ylabel('predicted label')\n",
    "bottom, top = s1.get_ylim()\n",
    "s1.set_ylim(bottom + 0.5, top - 0.5)"
   ]
  },
  {
   "cell_type": "markdown",
   "metadata": {},
   "source": [
    "### Balancing data set"
   ]
  },
  {
   "cell_type": "markdown",
   "metadata": {},
   "source": [
    "#### for dfall"
   ]
  },
  {
   "cell_type": "code",
   "execution_count": 14,
   "metadata": {},
   "outputs": [
    {
     "name": "stdout",
     "output_type": "stream",
     "text": [
      "df1count  3120\n",
      "df0count  12480\n",
      "df1_over  12480\n"
     ]
    },
    {
     "name": "stderr",
     "output_type": "stream",
     "text": [
      "C:\\Users\\ydi\\Anaconda3\\lib\\site-packages\\sklearn\\svm\\base.py:193: FutureWarning: The default value of gamma will change from 'auto' to 'scale' in version 0.22 to account better for unscaled features. Set gamma explicitly to 'auto' or 'scale' to avoid this warning.\n",
      "  \"avoid this warning.\", FutureWarning)\n"
     ]
    },
    {
     "name": "stdout",
     "output_type": "stream",
     "text": [
      "Accuracy Score: 0.6826923076923077\n",
      "Recall Score: 0.7384615384615385\n",
      "Precision Score: 0.35787511649580617\n"
     ]
    },
    {
     "data": {
      "text/plain": [
       "(2.0, 0.0)"
      ]
     },
     "execution_count": 14,
     "metadata": {},
     "output_type": "execute_result"
    },
    {
     "data": {
      "image/png": "[encoded data removed]",
      "text/plain": [
       "<Figure size 432x288 with 1 Axes>"
      ]
     },
     "metadata": {
      "needs_background": "light"
     },
     "output_type": "display_data"
    }
   ],
   "source": [
    "X_train, X_test, y_train, y_test = train_test_split(dfall, dfall[\"top\"], stratify=dfall[\"top\"])\n",
    "features=['danceability','energy','key','loudness','mode' ,'speechiness','acousticness','instrumentalness','liveness','valence','tempo']            \n",
    "\n",
    "# Divide by class\n",
    "df0 = X_train[X_train['top'] == 0]\n",
    "df1 = X_train[X_train['top'] == 1]\n",
    "df1count=df1.shape[0]\n",
    "df0count=df0.shape[0]\n",
    "print('df1count ',df1count)\n",
    "print('df0count ',df0count)\n",
    "df1_over = df1.sample(df0count, replace=True)\n",
    "print('df1_over ', df1_over.shape[0])\n",
    "X_trainb=pd.concat([df1_over, df0], ignore_index=True) #new training Xb balanced\n",
    "y_train=X_trainb['top']\n",
    "X_trainb=X_trainb[features]\n",
    "X_test=X_test[features]\n",
    "#retry svc\n",
    "clf = svm.SVC()\n",
    "clf.fit(X_trainb, y_train)  \n",
    "\n",
    "y_pred=clf.predict(X_test)\n",
    "\n",
    "print(\"Accuracy Score:\",accuracy_score(y_test,y_pred))\n",
    "print(\"Recall Score:\",recall_score(y_test,y_pred,labels=[1,0]))\n",
    "print(\"Precision Score:\",precision_score(y_test,y_pred,labels=[1,0]))\n",
    "\n",
    "mat = confusion_matrix(y_test, y_pred)\n",
    "s1=sns.heatmap(mat.T, square=True, annot=True, fmt='d', cbar=False,\n",
    "          xticklabels=['No','Yes'],\n",
    "          yticklabels=['No','Yes'] )\n",
    "plt.xlabel('true label')\n",
    "plt.ylabel('predicted label')\n",
    "bottom, top = s1.get_ylim()\n",
    "s1.set_ylim(bottom + 0.5, top - 0.5)"
   ]
  },
  {
   "cell_type": "markdown",
   "metadata": {},
   "source": [
    "## New section"
   ]
  },
  {
   "cell_type": "code",
   "execution_count": 15,
   "metadata": {},
   "outputs": [
    {
     "data": {
      "text/plain": [
       "1192"
      ]
     },
     "execution_count": 15,
     "metadata": {},
     "output_type": "execute_result"
    }
   ],
   "source": [
    "#number of distinct track name in 2019 200 weekly charts\n",
    "df19['Track Name'].unique().size"
   ]
  },
  {
   "cell_type": "markdown",
   "metadata": {},
   "source": [
    "Change data set and consider year as a whole, top meaning song reached top at some point"
   ]
  },
  {
   "cell_type": "code",
   "execution_count": 16,
   "metadata": {},
   "outputs": [
    {
     "data": {
      "text/plain": [
       "353"
      ]
     },
     "execution_count": 16,
     "metadata": {},
     "output_type": "execute_result"
    }
   ],
   "source": [
    "df19top=df19[df19['top']==1]\n",
    "df19top['Track Name'].unique().size"
   ]
  },
  {
   "cell_type": "markdown",
   "metadata": {},
   "source": [
    "drop non feature column and then add \"top\" if at some point during the year the song was popular"
   ]
  },
  {
   "cell_type": "code",
   "execution_count": 17,
   "metadata": {},
   "outputs": [
    {
     "data": {
      "text/html": [
       "<div>\n",
       "<style scoped>\n",
       "    .dataframe tbody tr th:only-of-type {\n",
       "        vertical-align: middle;\n",
       "    }\n",
       "\n",
       "    .dataframe tbody tr th {\n",
       "        vertical-align: top;\n",
       "    }\n",
       "\n",
       "    .dataframe thead th {\n",
       "        text-align: right;\n",
       "    }\n",
       "</style>\n",
       "<table border=\"1\" class=\"dataframe\">\n",
       "  <thead>\n",
       "    <tr style=\"text-align: right;\">\n",
       "      <th></th>\n",
       "      <th>Position</th>\n",
       "      <th>Track Name</th>\n",
       "      <th>Artist</th>\n",
       "      <th>Streams</th>\n",
       "      <th>URL</th>\n",
       "      <th>danceability</th>\n",
       "      <th>energy</th>\n",
       "      <th>key</th>\n",
       "      <th>loudness</th>\n",
       "      <th>mode</th>\n",
       "      <th>...</th>\n",
       "      <th>type</th>\n",
       "      <th>id</th>\n",
       "      <th>uri</th>\n",
       "      <th>track_href</th>\n",
       "      <th>analysis_url</th>\n",
       "      <th>duration_ms</th>\n",
       "      <th>time_signature</th>\n",
       "      <th>week</th>\n",
       "      <th>year</th>\n",
       "      <th>top</th>\n",
       "    </tr>\n",
       "  </thead>\n",
       "  <tbody>\n",
       "    <tr>\n",
       "      <th>0</th>\n",
       "      <td>1</td>\n",
       "      <td>Sunflower - Spider-Man: Into the Spider-Verse</td>\n",
       "      <td>Post Malone</td>\n",
       "      <td>14202522</td>\n",
       "      <td>https://open.spotify.com/track/3KkXRkHbMCARz0a...</td>\n",
       "      <td>0.760</td>\n",
       "      <td>0.479</td>\n",
       "      <td>2</td>\n",
       "      <td>-5.574</td>\n",
       "      <td>1</td>\n",
       "      <td>...</td>\n",
       "      <td>audio_features</td>\n",
       "      <td>3KkXRkHbMCARz0aVfEt68P</td>\n",
       "      <td>spotify:track:3KkXRkHbMCARz0aVfEt68P</td>\n",
       "      <td>https://api.spotify.com/v1/tracks/3KkXRkHbMCAR...</td>\n",
       "      <td>https://api.spotify.com/v1/audio-analysis/3KkX...</td>\n",
       "      <td>158040</td>\n",
       "      <td>4</td>\n",
       "      <td>1</td>\n",
       "      <td>2019</td>\n",
       "      <td>1</td>\n",
       "    </tr>\n",
       "    <tr>\n",
       "      <th>1</th>\n",
       "      <td>2</td>\n",
       "      <td>Wow.</td>\n",
       "      <td>Post Malone</td>\n",
       "      <td>12721360</td>\n",
       "      <td>https://open.spotify.com/track/6MWtB6iiXyIwun0...</td>\n",
       "      <td>0.833</td>\n",
       "      <td>0.539</td>\n",
       "      <td>11</td>\n",
       "      <td>-7.399</td>\n",
       "      <td>0</td>\n",
       "      <td>...</td>\n",
       "      <td>audio_features</td>\n",
       "      <td>6MWtB6iiXyIwun0YzU6DFP</td>\n",
       "      <td>spotify:track:6MWtB6iiXyIwun0YzU6DFP</td>\n",
       "      <td>https://api.spotify.com/v1/tracks/6MWtB6iiXyIw...</td>\n",
       "      <td>https://api.spotify.com/v1/audio-analysis/6MWt...</td>\n",
       "      <td>149520</td>\n",
       "      <td>4</td>\n",
       "      <td>1</td>\n",
       "      <td>2019</td>\n",
       "      <td>1</td>\n",
       "    </tr>\n",
       "    <tr>\n",
       "      <th>2</th>\n",
       "      <td>3</td>\n",
       "      <td>Going Bad (feat. Drake)</td>\n",
       "      <td>Meek Mill</td>\n",
       "      <td>9576466</td>\n",
       "      <td>https://open.spotify.com/track/2IRZnDFmlqMuOrY...</td>\n",
       "      <td>0.889</td>\n",
       "      <td>0.496</td>\n",
       "      <td>4</td>\n",
       "      <td>-6.365</td>\n",
       "      <td>0</td>\n",
       "      <td>...</td>\n",
       "      <td>audio_features</td>\n",
       "      <td>2IRZnDFmlqMuOrYOLnZZyc</td>\n",
       "      <td>spotify:track:2IRZnDFmlqMuOrYOLnZZyc</td>\n",
       "      <td>https://api.spotify.com/v1/tracks/2IRZnDFmlqMu...</td>\n",
       "      <td>https://api.spotify.com/v1/audio-analysis/2IRZ...</td>\n",
       "      <td>180522</td>\n",
       "      <td>4</td>\n",
       "      <td>1</td>\n",
       "      <td>2019</td>\n",
       "      <td>1</td>\n",
       "    </tr>\n",
       "    <tr>\n",
       "      <th>3</th>\n",
       "      <td>4</td>\n",
       "      <td>SICKO MODE</td>\n",
       "      <td>Travis Scott</td>\n",
       "      <td>9005380</td>\n",
       "      <td>https://open.spotify.com/track/2xLMifQCjDGFmkH...</td>\n",
       "      <td>0.834</td>\n",
       "      <td>0.730</td>\n",
       "      <td>8</td>\n",
       "      <td>-3.714</td>\n",
       "      <td>1</td>\n",
       "      <td>...</td>\n",
       "      <td>audio_features</td>\n",
       "      <td>2xLMifQCjDGFmkHkpNLD9h</td>\n",
       "      <td>spotify:track:2xLMifQCjDGFmkHkpNLD9h</td>\n",
       "      <td>https://api.spotify.com/v1/tracks/2xLMifQCjDGF...</td>\n",
       "      <td>https://api.spotify.com/v1/audio-analysis/2xLM...</td>\n",
       "      <td>312820</td>\n",
       "      <td>4</td>\n",
       "      <td>1</td>\n",
       "      <td>2019</td>\n",
       "      <td>1</td>\n",
       "    </tr>\n",
       "    <tr>\n",
       "      <th>4</th>\n",
       "      <td>5</td>\n",
       "      <td>Drip Too Hard (Lil Baby &amp; Gunna)</td>\n",
       "      <td>Lil Baby</td>\n",
       "      <td>8917200</td>\n",
       "      <td>https://open.spotify.com/track/78QR3Wp35dqAhFE...</td>\n",
       "      <td>0.897</td>\n",
       "      <td>0.662</td>\n",
       "      <td>1</td>\n",
       "      <td>-6.903</td>\n",
       "      <td>0</td>\n",
       "      <td>...</td>\n",
       "      <td>audio_features</td>\n",
       "      <td>78QR3Wp35dqAhFEc2qAGjE</td>\n",
       "      <td>spotify:track:78QR3Wp35dqAhFEc2qAGjE</td>\n",
       "      <td>https://api.spotify.com/v1/tracks/78QR3Wp35dqA...</td>\n",
       "      <td>https://api.spotify.com/v1/audio-analysis/78QR...</td>\n",
       "      <td>145543</td>\n",
       "      <td>4</td>\n",
       "      <td>1</td>\n",
       "      <td>2019</td>\n",
       "      <td>1</td>\n",
       "    </tr>\n",
       "  </tbody>\n",
       "</table>\n",
       "<p>5 rows × 26 columns</p>\n",
       "</div>"
      ],
      "text/plain": [
       "   Position                                     Track Name        Artist  \\\n",
       "0         1  Sunflower - Spider-Man: Into the Spider-Verse   Post Malone   \n",
       "1         2                                           Wow.   Post Malone   \n",
       "2         3                        Going Bad (feat. Drake)     Meek Mill   \n",
       "3         4                                     SICKO MODE  Travis Scott   \n",
       "4         5               Drip Too Hard (Lil Baby & Gunna)      Lil Baby   \n",
       "\n",
       "    Streams                                                URL  danceability  \\\n",
       "0  14202522  https://open.spotify.com/track/3KkXRkHbMCARz0a...         0.760   \n",
       "1  12721360  https://open.spotify.com/track/6MWtB6iiXyIwun0...         0.833   \n",
       "2   9576466  https://open.spotify.com/track/2IRZnDFmlqMuOrY...         0.889   \n",
       "3   9005380  https://open.spotify.com/track/2xLMifQCjDGFmkH...         0.834   \n",
       "4   8917200  https://open.spotify.com/track/78QR3Wp35dqAhFE...         0.897   \n",
       "\n",
       "   energy  key  loudness  mode  ...            type                      id  \\\n",
       "0   0.479    2    -5.574     1  ...  audio_features  3KkXRkHbMCARz0aVfEt68P   \n",
       "1   0.539   11    -7.399     0  ...  audio_features  6MWtB6iiXyIwun0YzU6DFP   \n",
       "2   0.496    4    -6.365     0  ...  audio_features  2IRZnDFmlqMuOrYOLnZZyc   \n",
       "3   0.730    8    -3.714     1  ...  audio_features  2xLMifQCjDGFmkHkpNLD9h   \n",
       "4   0.662    1    -6.903     0  ...  audio_features  78QR3Wp35dqAhFEc2qAGjE   \n",
       "\n",
       "                                    uri  \\\n",
       "0  spotify:track:3KkXRkHbMCARz0aVfEt68P   \n",
       "1  spotify:track:6MWtB6iiXyIwun0YzU6DFP   \n",
       "2  spotify:track:2IRZnDFmlqMuOrYOLnZZyc   \n",
       "3  spotify:track:2xLMifQCjDGFmkHkpNLD9h   \n",
       "4  spotify:track:78QR3Wp35dqAhFEc2qAGjE   \n",
       "\n",
       "                                          track_href  \\\n",
       "0  https://api.spotify.com/v1/tracks/3KkXRkHbMCAR...   \n",
       "1  https://api.spotify.com/v1/tracks/6MWtB6iiXyIw...   \n",
       "2  https://api.spotify.com/v1/tracks/2IRZnDFmlqMu...   \n",
       "3  https://api.spotify.com/v1/tracks/2xLMifQCjDGF...   \n",
       "4  https://api.spotify.com/v1/tracks/78QR3Wp35dqA...   \n",
       "\n",
       "                                        analysis_url  duration_ms  \\\n",
       "0  https://api.spotify.com/v1/audio-analysis/3KkX...       158040   \n",
       "1  https://api.spotify.com/v1/audio-analysis/6MWt...       149520   \n",
       "2  https://api.spotify.com/v1/audio-analysis/2IRZ...       180522   \n",
       "3  https://api.spotify.com/v1/audio-analysis/2xLM...       312820   \n",
       "4  https://api.spotify.com/v1/audio-analysis/78QR...       145543   \n",
       "\n",
       "  time_signature week  year top  \n",
       "0              4    1  2019   1  \n",
       "1              4    1  2019   1  \n",
       "2              4    1  2019   1  \n",
       "3              4    1  2019   1  \n",
       "4              4    1  2019   1  \n",
       "\n",
       "[5 rows x 26 columns]"
      ]
     },
     "execution_count": 17,
     "metadata": {},
     "output_type": "execute_result"
    }
   ],
   "source": [
    "df19.head()"
   ]
  },
  {
   "cell_type": "markdown",
   "metadata": {},
   "source": [
    "### New measure of top song\n",
    "Sort ascending position and keep smallest by dropping ong duplicates. This results in all distinct songs and being top means that at some point it was in the top 20"
   ]
  },
  {
   "cell_type": "code",
   "execution_count": 18,
   "metadata": {},
   "outputs": [
    {
     "data": {
      "text/html": [
       "<div>\n",
       "<style scoped>\n",
       "    .dataframe tbody tr th:only-of-type {\n",
       "        vertical-align: middle;\n",
       "    }\n",
       "\n",
       "    .dataframe tbody tr th {\n",
       "        vertical-align: top;\n",
       "    }\n",
       "\n",
       "    .dataframe thead th {\n",
       "        text-align: right;\n",
       "    }\n",
       "</style>\n",
       "<table border=\"1\" class=\"dataframe\">\n",
       "  <thead>\n",
       "    <tr style=\"text-align: right;\">\n",
       "      <th></th>\n",
       "      <th>Position</th>\n",
       "      <th>Track Name</th>\n",
       "      <th>Artist</th>\n",
       "      <th>Streams</th>\n",
       "      <th>URL</th>\n",
       "      <th>danceability</th>\n",
       "      <th>energy</th>\n",
       "      <th>key</th>\n",
       "      <th>loudness</th>\n",
       "      <th>mode</th>\n",
       "      <th>...</th>\n",
       "      <th>type</th>\n",
       "      <th>id</th>\n",
       "      <th>uri</th>\n",
       "      <th>track_href</th>\n",
       "      <th>analysis_url</th>\n",
       "      <th>duration_ms</th>\n",
       "      <th>time_signature</th>\n",
       "      <th>week</th>\n",
       "      <th>year</th>\n",
       "      <th>top</th>\n",
       "    </tr>\n",
       "  </thead>\n",
       "  <tbody>\n",
       "    <tr>\n",
       "      <th>0</th>\n",
       "      <td>1</td>\n",
       "      <td>Sunflower - Spider-Man: Into the Spider-Verse</td>\n",
       "      <td>Post Malone</td>\n",
       "      <td>14202522</td>\n",
       "      <td>https://open.spotify.com/track/3KkXRkHbMCARz0a...</td>\n",
       "      <td>0.760</td>\n",
       "      <td>0.479</td>\n",
       "      <td>2</td>\n",
       "      <td>-5.574</td>\n",
       "      <td>1</td>\n",
       "      <td>...</td>\n",
       "      <td>audio_features</td>\n",
       "      <td>3KkXRkHbMCARz0aVfEt68P</td>\n",
       "      <td>spotify:track:3KkXRkHbMCARz0aVfEt68P</td>\n",
       "      <td>https://api.spotify.com/v1/tracks/3KkXRkHbMCAR...</td>\n",
       "      <td>https://api.spotify.com/v1/audio-analysis/3KkX...</td>\n",
       "      <td>158040</td>\n",
       "      <td>4</td>\n",
       "      <td>1</td>\n",
       "      <td>2019</td>\n",
       "      <td>1</td>\n",
       "    </tr>\n",
       "    <tr>\n",
       "      <th>1</th>\n",
       "      <td>1</td>\n",
       "      <td>Señorita</td>\n",
       "      <td>Shawn Mendes</td>\n",
       "      <td>14244170</td>\n",
       "      <td>https://open.spotify.com/track/0TK2YIli7K1leLo...</td>\n",
       "      <td>0.759</td>\n",
       "      <td>0.540</td>\n",
       "      <td>9</td>\n",
       "      <td>-6.039</td>\n",
       "      <td>0</td>\n",
       "      <td>...</td>\n",
       "      <td>audio_features</td>\n",
       "      <td>0TK2YIli7K1leLovkQiNik</td>\n",
       "      <td>spotify:track:0TK2YIli7K1leLovkQiNik</td>\n",
       "      <td>https://api.spotify.com/v1/tracks/0TK2YIli7K1l...</td>\n",
       "      <td>https://api.spotify.com/v1/audio-analysis/0TK2...</td>\n",
       "      <td>190960</td>\n",
       "      <td>4</td>\n",
       "      <td>25</td>\n",
       "      <td>2019</td>\n",
       "      <td>1</td>\n",
       "    </tr>\n",
       "    <tr>\n",
       "      <th>2</th>\n",
       "      <td>1</td>\n",
       "      <td>HIGHEST IN THE ROOM</td>\n",
       "      <td>Travis Scott</td>\n",
       "      <td>9395208</td>\n",
       "      <td>https://open.spotify.com/track/3eekarcy7kvN4yt...</td>\n",
       "      <td>0.598</td>\n",
       "      <td>0.427</td>\n",
       "      <td>7</td>\n",
       "      <td>-8.764</td>\n",
       "      <td>0</td>\n",
       "      <td>...</td>\n",
       "      <td>audio_features</td>\n",
       "      <td>3eekarcy7kvN4yt5ZFzltW</td>\n",
       "      <td>spotify:track:3eekarcy7kvN4yt5ZFzltW</td>\n",
       "      <td>https://api.spotify.com/v1/tracks/3eekarcy7kvN...</td>\n",
       "      <td>https://api.spotify.com/v1/audio-analysis/3eek...</td>\n",
       "      <td>175721</td>\n",
       "      <td>4</td>\n",
       "      <td>44</td>\n",
       "      <td>2019</td>\n",
       "      <td>1</td>\n",
       "    </tr>\n",
       "    <tr>\n",
       "      <th>3</th>\n",
       "      <td>1</td>\n",
       "      <td>Goodbyes (Feat. Young Thug)</td>\n",
       "      <td>Post Malone</td>\n",
       "      <td>14539019</td>\n",
       "      <td>https://open.spotify.com/track/6vBdBCoOhKHiYDD...</td>\n",
       "      <td>0.580</td>\n",
       "      <td>0.653</td>\n",
       "      <td>5</td>\n",
       "      <td>-3.818</td>\n",
       "      <td>1</td>\n",
       "      <td>...</td>\n",
       "      <td>audio_features</td>\n",
       "      <td>6vBdBCoOhKHiYDDOcorfNo</td>\n",
       "      <td>spotify:track:6vBdBCoOhKHiYDDOcorfNo</td>\n",
       "      <td>https://api.spotify.com/v1/tracks/6vBdBCoOhKHi...</td>\n",
       "      <td>https://api.spotify.com/v1/audio-analysis/6vBd...</td>\n",
       "      <td>174960</td>\n",
       "      <td>4</td>\n",
       "      <td>27</td>\n",
       "      <td>2019</td>\n",
       "      <td>1</td>\n",
       "    </tr>\n",
       "    <tr>\n",
       "      <th>4</th>\n",
       "      <td>1</td>\n",
       "      <td>MIDDLE CHILD</td>\n",
       "      <td>J. Cole</td>\n",
       "      <td>20663232</td>\n",
       "      <td>https://open.spotify.com/track/2JvzF1RMd7lE3Km...</td>\n",
       "      <td>0.837</td>\n",
       "      <td>0.364</td>\n",
       "      <td>8</td>\n",
       "      <td>-11.713</td>\n",
       "      <td>1</td>\n",
       "      <td>...</td>\n",
       "      <td>audio_features</td>\n",
       "      <td>2JvzF1RMd7lE3KmFlsyZD8</td>\n",
       "      <td>spotify:track:2JvzF1RMd7lE3KmFlsyZD8</td>\n",
       "      <td>https://api.spotify.com/v1/tracks/2JvzF1RMd7lE...</td>\n",
       "      <td>https://api.spotify.com/v1/audio-analysis/2Jvz...</td>\n",
       "      <td>213594</td>\n",
       "      <td>4</td>\n",
       "      <td>4</td>\n",
       "      <td>2019</td>\n",
       "      <td>1</td>\n",
       "    </tr>\n",
       "  </tbody>\n",
       "</table>\n",
       "<p>5 rows × 26 columns</p>\n",
       "</div>"
      ],
      "text/plain": [
       "   Position                                     Track Name        Artist  \\\n",
       "0         1  Sunflower - Spider-Man: Into the Spider-Verse   Post Malone   \n",
       "1         1                                       Señorita  Shawn Mendes   \n",
       "2         1                            HIGHEST IN THE ROOM  Travis Scott   \n",
       "3         1                    Goodbyes (Feat. Young Thug)   Post Malone   \n",
       "4         1                                   MIDDLE CHILD       J. Cole   \n",
       "\n",
       "    Streams                                                URL  danceability  \\\n",
       "0  14202522  https://open.spotify.com/track/3KkXRkHbMCARz0a...         0.760   \n",
       "1  14244170  https://open.spotify.com/track/0TK2YIli7K1leLo...         0.759   \n",
       "2   9395208  https://open.spotify.com/track/3eekarcy7kvN4yt...         0.598   \n",
       "3  14539019  https://open.spotify.com/track/6vBdBCoOhKHiYDD...         0.580   \n",
       "4  20663232  https://open.spotify.com/track/2JvzF1RMd7lE3Km...         0.837   \n",
       "\n",
       "   energy  key  loudness  mode  ...            type                      id  \\\n",
       "0   0.479    2    -5.574     1  ...  audio_features  3KkXRkHbMCARz0aVfEt68P   \n",
       "1   0.540    9    -6.039     0  ...  audio_features  0TK2YIli7K1leLovkQiNik   \n",
       "2   0.427    7    -8.764     0  ...  audio_features  3eekarcy7kvN4yt5ZFzltW   \n",
       "3   0.653    5    -3.818     1  ...  audio_features  6vBdBCoOhKHiYDDOcorfNo   \n",
       "4   0.364    8   -11.713     1  ...  audio_features  2JvzF1RMd7lE3KmFlsyZD8   \n",
       "\n",
       "                                    uri  \\\n",
       "0  spotify:track:3KkXRkHbMCARz0aVfEt68P   \n",
       "1  spotify:track:0TK2YIli7K1leLovkQiNik   \n",
       "2  spotify:track:3eekarcy7kvN4yt5ZFzltW   \n",
       "3  spotify:track:6vBdBCoOhKHiYDDOcorfNo   \n",
       "4  spotify:track:2JvzF1RMd7lE3KmFlsyZD8   \n",
       "\n",
       "                                          track_href  \\\n",
       "0  https://api.spotify.com/v1/tracks/3KkXRkHbMCAR...   \n",
       "1  https://api.spotify.com/v1/tracks/0TK2YIli7K1l...   \n",
       "2  https://api.spotify.com/v1/tracks/3eekarcy7kvN...   \n",
       "3  https://api.spotify.com/v1/tracks/6vBdBCoOhKHi...   \n",
       "4  https://api.spotify.com/v1/tracks/2JvzF1RMd7lE...   \n",
       "\n",
       "                                        analysis_url  duration_ms  \\\n",
       "0  https://api.spotify.com/v1/audio-analysis/3KkX...       158040   \n",
       "1  https://api.spotify.com/v1/audio-analysis/0TK2...       190960   \n",
       "2  https://api.spotify.com/v1/audio-analysis/3eek...       175721   \n",
       "3  https://api.spotify.com/v1/audio-analysis/6vBd...       174960   \n",
       "4  https://api.spotify.com/v1/audio-analysis/2Jvz...       213594   \n",
       "\n",
       "  time_signature week  year top  \n",
       "0              4    1  2019   1  \n",
       "1              4   25  2019   1  \n",
       "2              4   44  2019   1  \n",
       "3              4   27  2019   1  \n",
       "4              4    4  2019   1  \n",
       "\n",
       "[5 rows x 26 columns]"
      ]
     },
     "execution_count": 18,
     "metadata": {},
     "output_type": "execute_result"
    }
   ],
   "source": [
    "df19nondup=df19.sort_values('Position', ascending=True).drop_duplicates('Track Name')\n",
    "df19nondup.index = np.arange(len(df19nondup))\n",
    "df19nondup.head()"
   ]
  },
  {
   "cell_type": "code",
   "execution_count": 19,
   "metadata": {},
   "outputs": [
    {
     "data": {
      "image/png": "[encoded data removed]",
      "text/plain": [
       "<Figure size 720x360 with 1 Axes>"
      ]
     },
     "metadata": {
      "needs_background": "light"
     },
     "output_type": "display_data"
    }
   ],
   "source": [
    "plt.figure(figsize=(10, 5))\n",
    "ax = sns.countplot(data=df19nondup, x='top',palette=\"Pastel2\")\n",
    "ax.set(xlabel='top or not', ylabel='Num of songs')\n",
    "plt.title(\"Top Characterization\")\n",
    "plt.show()"
   ]
  },
  {
   "cell_type": "code",
   "execution_count": 20,
   "metadata": {},
   "outputs": [
    {
     "name": "stdout",
     "output_type": "stream",
     "text": [
      "Accuracy Score: 0.6861924686192469\n",
      "Recall Score: 0.1267605633802817\n",
      "Precision Score: 0.4090909090909091\n"
     ]
    },
    {
     "name": "stderr",
     "output_type": "stream",
     "text": [
      "C:\\Users\\ydi\\Anaconda3\\lib\\site-packages\\sklearn\\ensemble\\forest.py:245: FutureWarning: The default value of n_estimators will change from 10 in version 0.20 to 100 in 0.22.\n",
      "  \"10 in version 0.20 to 100 in 0.22.\", FutureWarning)\n"
     ]
    },
    {
     "data": {
      "image/png": "[encoded data removed]",
      "text/plain": [
       "<Figure size 432x288 with 1 Axes>"
      ]
     },
     "metadata": {
      "needs_background": "light"
     },
     "output_type": "display_data"
    }
   ],
   "source": [
    "features=['danceability','energy','key','loudness','mode' ,'speechiness','acousticness','instrumentalness','liveness','valence','tempo']            \n",
    "X=df19nondup[features]\n",
    "y=df19nondup['top']\n",
    "X_train, X_test, y_train, y_test = train_test_split(X, y,stratify=y, test_size=0.2)\n",
    "\n",
    "clf= RandomForestClassifier()\n",
    "clf.fit(X_train,y_train)\n",
    "y_pred= clf.predict(X_test)\n",
    "mat = confusion_matrix(y_test, y_pred)\n",
    "s1=sns.heatmap(mat.T, square=True, annot=True, fmt='d', cbar=False,\n",
    "          xticklabels=['No','Yes'],\n",
    "          yticklabels=['No','Yes'] )\n",
    "plt.xlabel('true label')\n",
    "plt.ylabel('predicted label')\n",
    "bottom, top = s1.get_ylim()\n",
    "s1.set_ylim(bottom + 0.5, top - 0.5)\n",
    "\n",
    "print(\"Accuracy Score:\",accuracy_score(y_test,y_pred))\n",
    "print(\"Recall Score:\",recall_score(y_test,y_pred,labels=[1,0]))\n",
    "print(\"Precision Score:\",precision_score(y_test,y_pred,labels=[1,0]))"
   ]
  },
  {
   "cell_type": "code",
   "execution_count": 21,
   "metadata": {},
   "outputs": [
    {
     "name": "stdout",
     "output_type": "stream",
     "text": [
      "Accuracy Score: 0.698744769874477\n",
      "Recall Score: 0.028169014084507043\n",
      "Precision Score: 0.4\n"
     ]
    },
    {
     "name": "stderr",
     "output_type": "stream",
     "text": [
      "C:\\Users\\ydi\\Anaconda3\\lib\\site-packages\\sklearn\\svm\\base.py:193: FutureWarning: The default value of gamma will change from 'auto' to 'scale' in version 0.22 to account better for unscaled features. Set gamma explicitly to 'auto' or 'scale' to avoid this warning.\n",
      "  \"avoid this warning.\", FutureWarning)\n"
     ]
    },
    {
     "data": {
      "text/plain": [
       "(2.0, 0.0)"
      ]
     },
     "execution_count": 21,
     "metadata": {},
     "output_type": "execute_result"
    },
    {
     "data": {
      "image/png": "[encoded data removed]",
      "text/plain": [
       "<Figure size 432x288 with 1 Axes>"
      ]
     },
     "metadata": {
      "needs_background": "light"
     },
     "output_type": "display_data"
    }
   ],
   "source": [
    "clf = svm.SVC()\n",
    "clf.fit(X_train, y_train)  \n",
    "\n",
    "y_pred=clf.predict(X_test)\n",
    "\n",
    "print(\"Accuracy Score:\",accuracy_score(y_test,y_pred))\n",
    "print(\"Recall Score:\",recall_score(y_test,y_pred,labels=[1,0]))\n",
    "print(\"Precision Score:\",precision_score(y_test,y_pred,labels=[1,0]))\n",
    "\n",
    "mat = confusion_matrix(y_test, y_pred)\n",
    "s1=sns.heatmap(mat.T, square=True, annot=True, fmt='d', cbar=False,\n",
    "          xticklabels=['No','Yes'],\n",
    "          yticklabels=['No','Yes'] )\n",
    "plt.xlabel('true label')\n",
    "plt.ylabel('predicted label')\n",
    "bottom, top = s1.get_ylim()\n",
    "s1.set_ylim(bottom + 0.5, top - 0.5)"
   ]
  },
  {
   "cell_type": "code",
   "execution_count": 22,
   "metadata": {},
   "outputs": [
    {
     "name": "stdout",
     "output_type": "stream",
     "text": [
      "df1count  265\n",
      "df0count  629\n",
      "df1_over  629\n",
      "Accuracy Score: 0.5302013422818792\n",
      "Recall Score: 0.25\n",
      "Precision Score: 0.22916666666666666\n"
     ]
    },
    {
     "name": "stderr",
     "output_type": "stream",
     "text": [
      "C:\\Users\\ydi\\Anaconda3\\lib\\site-packages\\sklearn\\svm\\base.py:193: FutureWarning: The default value of gamma will change from 'auto' to 'scale' in version 0.22 to account better for unscaled features. Set gamma explicitly to 'auto' or 'scale' to avoid this warning.\n",
      "  \"avoid this warning.\", FutureWarning)\n"
     ]
    },
    {
     "data": {
      "text/plain": [
       "(2.0, 0.0)"
      ]
     },
     "execution_count": 22,
     "metadata": {},
     "output_type": "execute_result"
    },
    {
     "data": {
      "image/png": "[encoded data removed]",
      "text/plain": [
       "<Figure size 432x288 with 1 Axes>"
      ]
     },
     "metadata": {
      "needs_background": "light"
     },
     "output_type": "display_data"
    }
   ],
   "source": [
    "X_train, X_test, y_train, y_test = train_test_split(df19nondup, df19nondup[\"top\"], stratify=df19nondup[\"top\"])\n",
    "features=['danceability','energy','key','loudness','mode' ,'speechiness','acousticness','instrumentalness','liveness','valence','tempo']            \n",
    "\n",
    "# Divide by class\n",
    "df0 = X_train[X_train['top'] == 0]\n",
    "df1 = X_train[X_train['top'] == 1]\n",
    "df1count=df1.shape[0]\n",
    "df0count=df0.shape[0]\n",
    "print('df1count ',df1count)\n",
    "print('df0count ',df0count)\n",
    "df1_over = df1.sample(df0count, replace=True)\n",
    "print('df1_over ', df1_over.shape[0])\n",
    "X_trainb=pd.concat([df1_over, df0], ignore_index=True) #new training Xb balanced\n",
    "y_train=X_trainb['top']\n",
    "X_trainb=X_trainb[features]\n",
    "X_test=X_test[features]\n",
    "#retry svc\n",
    "clf = svm.SVC()\n",
    "clf.fit(X_trainb, y_train)  \n",
    "\n",
    "y_pred=clf.predict(X_test)\n",
    "\n",
    "print(\"Accuracy Score:\",accuracy_score(y_test,y_pred))\n",
    "print(\"Recall Score:\",recall_score(y_test,y_pred,labels=[1,0]))\n",
    "print(\"Precision Score:\",precision_score(y_test,y_pred,labels=[1,0]))\n",
    "\n",
    "mat = confusion_matrix(y_test, y_pred)\n",
    "s1=sns.heatmap(mat.T, square=True, annot=True, fmt='d', cbar=False,\n",
    "          xticklabels=['No','Yes'],\n",
    "          yticklabels=['No','Yes'] )\n",
    "plt.xlabel('true label')\n",
    "plt.ylabel('predicted label')\n",
    "bottom, top = s1.get_ylim()\n",
    "s1.set_ylim(bottom + 0.5, top - 0.5)"
   ]
  },
  {
   "cell_type": "code",
   "execution_count": 23,
   "metadata": {},
   "outputs": [
    {
     "name": "stdout",
     "output_type": "stream",
     "text": [
      "Accuracy Score: 0.7261904761904762\n",
      "Recall Score: 0.7380952380952381\n",
      "Precision Score: 0.7209302325581395\n"
     ]
    },
    {
     "name": "stderr",
     "output_type": "stream",
     "text": [
      "C:\\Users\\ydi\\Anaconda3\\lib\\site-packages\\sklearn\\svm\\base.py:193: FutureWarning: The default value of gamma will change from 'auto' to 'scale' in version 0.22 to account better for unscaled features. Set gamma explicitly to 'auto' or 'scale' to avoid this warning.\n",
      "  \"avoid this warning.\", FutureWarning)\n"
     ]
    },
    {
     "data": {
      "text/plain": [
       "(2.0, 0.0)"
      ]
     },
     "execution_count": 23,
     "metadata": {},
     "output_type": "execute_result"
    },
    {
     "data": {
      "image/png": "[encoded data removed]",
      "text/plain": [
       "<Figure size 432x288 with 1 Axes>"
      ]
     },
     "metadata": {
      "needs_background": "light"
     },
     "output_type": "display_data"
    }
   ],
   "source": [
    "#creating new artificial balanced dataset\n",
    "df19balanced=pd.concat([df1_over, df0], ignore_index=True)\n",
    "#resample data\n",
    "features=['danceability','energy','key','loudness','mode' ,'speechiness','acousticness','instrumentalness','liveness','valence','tempo']            \n",
    "X=df19balanced[features]\n",
    "y=df19balanced['top']\n",
    "X_train, X_test, y_train, y_test = train_test_split(X, y,stratify=y, test_size=0.2)\n",
    "#retry svc\n",
    "clf = svm.SVC()\n",
    "clf.fit(X_train, y_train)  \n",
    "\n",
    "y_pred=clf.predict(X_test)\n",
    "\n",
    "print(\"Accuracy Score:\",accuracy_score(y_test,y_pred))\n",
    "print(\"Recall Score:\",recall_score(y_test,y_pred,labels=[1,0]))\n",
    "print(\"Precision Score:\",precision_score(y_test,y_pred,labels=[1,0]))\n",
    "\n",
    "mat = confusion_matrix(y_test, y_pred)\n",
    "s1=sns.heatmap(mat.T, square=True, annot=True, fmt='d', cbar=False,\n",
    "          xticklabels=['No','Yes'],\n",
    "          yticklabels=['No','Yes'] )\n",
    "plt.xlabel('true label')\n",
    "plt.ylabel('predicted label')\n",
    "bottom, top = s1.get_ylim()\n",
    "s1.set_ylim(bottom + 0.5, top - 0.5)"
   ]
  },
  {
   "cell_type": "markdown",
   "metadata": {},
   "source": [
    "Looking at features alone seems not to be adequate predict if a given song will reach the top 20 at some point. This sugges"
   ]
  },
  {
   "cell_type": "code",
   "execution_count": null,
   "metadata": {},
   "outputs": [],
   "source": []
  }
 ],
 "metadata": {
  "kernelspec": {
   "display_name": "Python 3",
   "language": "python",
   "name": "python3"
  },
  "language_info": {
   "codemirror_mode": {
    "name": "ipython",
    "version": 3
   },
   "file_extension": ".py",
   "mimetype": "text/x-python",
   "name": "python",
   "nbconvert_exporter": "python",
   "pygments_lexer": "ipython3",
   "version": "3.7.3"
  }
 },
 "nbformat": 4,
 "nbformat_minor": 4
}
